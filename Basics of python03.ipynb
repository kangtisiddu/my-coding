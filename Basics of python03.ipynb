{
 "cells": [
  {
   "cell_type": "code",
   "execution_count": 1,
   "id": "b7c58e47-0df5-4913-b882-d4f4e374fad3",
   "metadata": {},
   "outputs": [],
   "source": [
    "def is_prime(n):\n",
    "    \"\"\"Returns True if n is a prime number, else False.\"\"\"\n",
    "    if n <= 1:\n",
    "        return False\n",
    "    for i in range(2, int(n**0.5) + 1):  \n",
    "        if n % i == 0:\n",
    "            return False\n",
    "    return True"
   ]
  },
  {
   "cell_type": "code",
   "execution_count": 2,
   "id": "8670cea2-c57b-47ee-abab-d8f320c57c24",
   "metadata": {},
   "outputs": [
    {
     "name": "stdin",
     "output_type": "stream",
     "text": [
      "Enter a number to check if it's prime:  1\n"
     ]
    },
    {
     "name": "stdout",
     "output_type": "stream",
     "text": [
      "1 is NOT a prime number.\n"
     ]
    }
   ],
   "source": [
    "num = int(input(\"Enter a number to check if it's prime: \"))\n",
    "if is_prime(num):\n",
    "    print(f\"{num} is a prime number.\")\n",
    "else:\n",
    "    print(f\"{num} is NOT a prime number.\")"
   ]
  },
  {
   "cell_type": "markdown",
   "id": "4641925b-1bb9-47c6-a24f-d67b9d08f9ac",
   "metadata": {},
   "source": [
    " Exercise 2: Product of Random Numbers"
   ]
  },
  {
   "cell_type": "code",
   "execution_count": 3,
   "id": "dac2f9ae-89ae-4cce-8775-53a2da45de69",
   "metadata": {},
   "outputs": [],
   "source": [
    "import random"
   ]
  },
  {
   "cell_type": "code",
   "execution_count": 4,
   "id": "2ddf4349-b3eb-4521-a923-e9649f64057f",
   "metadata": {},
   "outputs": [],
   "source": [
    "num1 = random.randint(1, 10)\n",
    "num2 = random.randint(1, 10)"
   ]
  },
  {
   "cell_type": "code",
   "execution_count": 6,
   "id": "8835ff3a-b91a-4d74-8423-d955bf37a15e",
   "metadata": {},
   "outputs": [
    {
     "name": "stdout",
     "output_type": "stream",
     "text": [
      "Multiply: 5 * 7\n"
     ]
    },
    {
     "name": "stdin",
     "output_type": "stream",
     "text": [
      "Enter the product:  35\n"
     ]
    }
   ],
   "source": [
    "print(f\"Multiply: {num1} * {num2}\")\n",
    "user_answer = int(input(\"Enter the product: \"))"
   ]
  },
  {
   "cell_type": "code",
   "execution_count": 7,
   "id": "a3b6af17-abb9-4b98-965a-0b301aa18c3e",
   "metadata": {},
   "outputs": [
    {
     "name": "stdout",
     "output_type": "stream",
     "text": [
      "Correct! Well done.\n"
     ]
    }
   ],
   "source": [
    "if user_answer == num1 * num2:\n",
    "    print(\"Correct! Well done.\")\n",
    "else:\n",
    "    print(f\"Incorrect. The correct answer is {num1 * num2}.\")"
   ]
  },
  {
   "cell_type": "markdown",
   "id": "132e7e1a-93ae-4292-b80a-646c1bdf6e6f",
   "metadata": {},
   "source": [
    "Exercise 3: Squares of Even/Odd Numbers"
   ]
  },
  {
   "cell_type": "code",
   "execution_count": 9,
   "id": "2496da97-3c8a-46e7-9a35-ecda3a70e64a",
   "metadata": {},
   "outputs": [
    {
     "name": "stdout",
     "output_type": "stream",
     "text": [
      "Squares of even numbers from 1 to 100:\n",
      "2^2 = 4\n",
      "4^2 = 16\n",
      "6^2 = 36\n",
      "8^2 = 64\n",
      "10^2 = 100\n",
      "12^2 = 144\n",
      "14^2 = 196\n",
      "16^2 = 256\n",
      "18^2 = 324\n",
      "20^2 = 400\n",
      "22^2 = 484\n",
      "24^2 = 576\n",
      "26^2 = 676\n",
      "28^2 = 784\n",
      "30^2 = 900\n",
      "32^2 = 1024\n",
      "34^2 = 1156\n",
      "36^2 = 1296\n",
      "38^2 = 1444\n",
      "40^2 = 1600\n",
      "42^2 = 1764\n",
      "44^2 = 1936\n",
      "46^2 = 2116\n",
      "48^2 = 2304\n",
      "50^2 = 2500\n",
      "52^2 = 2704\n",
      "54^2 = 2916\n",
      "56^2 = 3136\n",
      "58^2 = 3364\n",
      "60^2 = 3600\n",
      "62^2 = 3844\n",
      "64^2 = 4096\n",
      "66^2 = 4356\n",
      "68^2 = 4624\n",
      "70^2 = 4900\n",
      "72^2 = 5184\n",
      "74^2 = 5476\n",
      "76^2 = 5776\n",
      "78^2 = 6084\n",
      "80^2 = 6400\n",
      "82^2 = 6724\n",
      "84^2 = 7056\n",
      "86^2 = 7396\n",
      "88^2 = 7744\n",
      "90^2 = 8100\n",
      "92^2 = 8464\n",
      "94^2 = 8836\n",
      "96^2 = 9216\n",
      "98^2 = 9604\n"
     ]
    }
   ],
   "source": [
    "print(\"Squares of even numbers from 1 to 100:\")\n",
    "for num in range(1, 100):  \n",
    "    if num % 2 == 0:  \n",
    "        print(f\"{num}^2 = {num**2}\")"
   ]
  },
  {
   "cell_type": "markdown",
   "id": "df8a3480-4e93-4b54-a3ab-9082780595e6",
   "metadata": {},
   "source": [
    "Exercise 4: Word Counter"
   ]
  },
  {
   "cell_type": "code",
   "execution_count": 10,
   "id": "a5493357-295d-4c18-b80e-c0030ecbb126",
   "metadata": {},
   "outputs": [],
   "source": [
    "input_text = \"This is a sample text. This text will be used to demonstrate the word counter.\""
   ]
  },
  {
   "cell_type": "code",
   "execution_count": 11,
   "id": "cf6922b2-6d55-4fc9-950f-cb5017982e01",
   "metadata": {},
   "outputs": [],
   "source": [
    "words = input_text.split()"
   ]
  },
  {
   "cell_type": "code",
   "execution_count": 12,
   "id": "3c0af3de-298a-478d-bd08-344709eb21b5",
   "metadata": {},
   "outputs": [],
   "source": [
    "word_count = {}"
   ]
  },
  {
   "cell_type": "code",
   "execution_count": 13,
   "id": "36733ef7-93c7-4ac3-9d8b-c051191f720f",
   "metadata": {},
   "outputs": [],
   "source": [
    "for word in words:\n",
    "    word = word.strip(\".,!?\") \n",
    "    word_count[word] = word_count.get(word, 0) + 1"
   ]
  },
  {
   "cell_type": "code",
   "execution_count": 14,
   "id": "ccdbf12b-cc5e-46c3-808e-6ae0ea73ddae",
   "metadata": {},
   "outputs": [
    {
     "name": "stdout",
     "output_type": "stream",
     "text": [
      "'This': 2\n",
      "'is': 1\n",
      "'a': 1\n",
      "'sample': 1\n",
      "'text': 2\n",
      "'will': 1\n",
      "'be': 1\n",
      "'used': 1\n",
      "'to': 1\n",
      "'demonstrate': 1\n",
      "'the': 1\n",
      "'word': 1\n",
      "'counter': 1\n"
     ]
    }
   ],
   "source": [
    "for word, count in word_count.items():\n",
    "    print(f\"'{word}': {count}\")"
   ]
  },
  {
   "cell_type": "markdown",
   "id": "2d812200-b775-4f77-94e7-3b41b204b4ac",
   "metadata": {},
   "source": [
    "Exercise 5: Check for Palindrome"
   ]
  },
  {
   "cell_type": "code",
   "execution_count": 15,
   "id": "66244f79-a261-4dd9-ade6-8eb0a10aae71",
   "metadata": {},
   "outputs": [],
   "source": [
    "def is_palindrome(s):\n",
    "    \"\"\"Checks if the given string is a palindrome, ignoring spaces, punctuation, and case.\"\"\"   \n",
    "    cleaned = ''.join(char.lower() for char in s if char.isalnum())\n",
    "    return cleaned == cleaned[::-1]  "
   ]
  },
  {
   "cell_type": "code",
   "execution_count": 17,
   "id": "04ed87f0-6f1f-4dce-b9c1-030a68e404b7",
   "metadata": {},
   "outputs": [
    {
     "name": "stdin",
     "output_type": "stream",
     "text": [
      "Enter a string to check for palindrome:  Checks\n"
     ]
    },
    {
     "name": "stdout",
     "output_type": "stream",
     "text": [
      "The string is NOT a palindrome.\n"
     ]
    }
   ],
   "source": [
    "input_string = input(\"Enter a string to check for palindrome: \")\n",
    "if is_palindrome(input_string):\n",
    "    print(\"The string is a palindrome.\")\n",
    "else:\n",
    "    print(\"The string is NOT a palindrome.\")"
   ]
  },
  {
   "cell_type": "code",
   "execution_count": null,
   "id": "6e7e8fec-63b7-4c0f-b9da-0760a9eb60c8",
   "metadata": {},
   "outputs": [],
   "source": []
  }
 ],
 "metadata": {
  "kernelspec": {
   "display_name": "Python [conda env:base] *",
   "language": "python",
   "name": "conda-base-py"
  },
  "language_info": {
   "codemirror_mode": {
    "name": "ipython",
    "version": 3
   },
   "file_extension": ".py",
   "mimetype": "text/x-python",
   "name": "python",
   "nbconvert_exporter": "python",
   "pygments_lexer": "ipython3",
   "version": "3.11.7"
  }
 },
 "nbformat": 4,
 "nbformat_minor": 5
}
