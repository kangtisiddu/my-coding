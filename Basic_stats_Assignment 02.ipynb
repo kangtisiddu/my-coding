{
 "cells": [
  {
   "cell_type": "markdown",
   "id": "aa6856bb-32bc-418a-b9d3-c6f66e4fd2a4",
   "metadata": {},
   "source": [
    "import numpy as np"
   ]
  },
  {
   "cell_type": "code",
   "execution_count": 2,
   "id": "8a1617dc-c7ae-49e2-b7a5-2a603435a3b9",
   "metadata": {},
   "outputs": [],
   "source": [
    "import scipy.stats as stats"
   ]
  },
  {
   "cell_type": "code",
   "execution_count": 3,
   "id": "55a5e14c-f6c8-427b-8dfb-cb3f2ae05112",
   "metadata": {},
   "outputs": [],
   "source": [
    "data = [1.13, 1.55, 1.43, 0.92, 1.25, 1.36, 1.32, 0.85, 1.07, 1.48, 1.20, 1.33, 1.18, 1.22, 1.29]"
   ]
  },
  {
   "cell_type": "code",
   "execution_count": 4,
   "id": "4e4a3ab8-4691-40a7-9874-f01f6d6f1079",
   "metadata": {},
   "outputs": [],
   "source": [
    "n = len(data)"
   ]
  },
  {
   "cell_type": "markdown",
   "id": "94075740-0253-4bd3-868e-6a004ac820dd",
   "metadata": {},
   "source": [
    "a.Build 99% Confidence Interval Using Sample Standard Deviation"
   ]
  },
  {
   "cell_type": "code",
   "execution_count": 5,
   "id": "2ee4b28d-ba17-40b3-883b-ede65ec18350",
   "metadata": {},
   "outputs": [],
   "source": [
    "mean = np.mean(data)"
   ]
  },
  {
   "cell_type": "code",
   "execution_count": 6,
   "id": "67f372d0-b7ec-4ec4-b452-6653b6df9629",
   "metadata": {},
   "outputs": [],
   "source": [
    "std = np.std(data, ddof=1)"
   ]
  },
  {
   "cell_type": "code",
   "execution_count": 7,
   "id": "8964ee80-f285-4c8f-a742-f29cfbfe3ec6",
   "metadata": {},
   "outputs": [],
   "source": [
    "t_critical = stats.t.ppf(1 - 0.005, df=n - 1)"
   ]
  },
  {
   "cell_type": "code",
   "execution_count": 8,
   "id": "b5b53222-544a-4590-92b7-16cb29881a22",
   "metadata": {},
   "outputs": [],
   "source": [
    "margin_error = t_critical * (std / np.sqrt(n))"
   ]
  },
  {
   "cell_type": "code",
   "execution_count": 9,
   "id": "d737d47f-9540-4823-bd77-8afd7eaae945",
   "metadata": {},
   "outputs": [],
   "source": [
    "ci_lower = mean - margin_error"
   ]
  },
  {
   "cell_type": "code",
   "execution_count": 10,
   "id": "20146054-e7f8-479d-b826-07911de80fcf",
   "metadata": {},
   "outputs": [],
   "source": [
    "ci_upper = mean + margin_error"
   ]
  },
  {
   "cell_type": "code",
   "execution_count": 11,
   "id": "661291b4-7fba-4c44-bebd-1ff31b7868c4",
   "metadata": {},
   "outputs": [
    {
     "name": "stdout",
     "output_type": "stream",
     "text": [
      "99% Confidence Interval (using sample std): (1.090197338451367, 1.3871359948819662)\n"
     ]
    }
   ],
   "source": [
    "print(\"99% Confidence Interval (using sample std):\", (ci_lower, ci_upper))"
   ]
  },
  {
   "cell_type": "markdown",
   "id": "e928a091-13e0-4866-880b-141933eee48a",
   "metadata": {},
   "source": [
    "b. Build 99% Confidence Interval Using Known Population Standard Deviation"
   ]
  },
  {
   "cell_type": "code",
   "execution_count": 12,
   "id": "f5858616-8a0a-45bc-841a-603791eb0930",
   "metadata": {},
   "outputs": [],
   "source": [
    "sigma = 0.2"
   ]
  },
  {
   "cell_type": "code",
   "execution_count": 13,
   "id": "9e781dff-9c9e-4839-8cac-39669c0e7a9b",
   "metadata": {},
   "outputs": [],
   "source": [
    "z_critical = stats.norm.ppf(1 - 0.005)"
   ]
  },
  {
   "cell_type": "code",
   "execution_count": 14,
   "id": "dace3620-86ea-44db-9c92-1bb7e9993ad0",
   "metadata": {},
   "outputs": [],
   "source": [
    "margin_error_z = z_critical * (sigma / np.sqrt(n))"
   ]
  },
  {
   "cell_type": "code",
   "execution_count": 15,
   "id": "e623f71a-4d64-4f2a-93ac-445e32cf904b",
   "metadata": {},
   "outputs": [],
   "source": [
    "ci_lower_z = mean - margin_error_z"
   ]
  },
  {
   "cell_type": "code",
   "execution_count": 16,
   "id": "d864eb70-0cf9-4b45-9e2d-8c02bc7ac5ef",
   "metadata": {},
   "outputs": [],
   "source": [
    "ci_upper_z = mean + margin_error_z"
   ]
  },
  {
   "cell_type": "code",
   "execution_count": 17,
   "id": "6ca6e470-ef8c-4538-a626-ee988d5c01af",
   "metadata": {},
   "outputs": [
    {
     "name": "stdout",
     "output_type": "stream",
     "text": [
      "99% Confidence Interval (using known population std): (1.1056514133957607, 1.3716819199375725)\n"
     ]
    }
   ],
   "source": [
    "print(\"99% Confidence Interval (using known population std):\", (ci_lower_z, ci_upper_z))"
   ]
  }
 ],
 "metadata": {
  "kernelspec": {
   "display_name": "Python [conda env:base] *",
   "language": "python",
   "name": "conda-base-py"
  },
  "language_info": {
   "codemirror_mode": {
    "name": "ipython",
    "version": 3
   },
   "file_extension": ".py",
   "mimetype": "text/x-python",
   "name": "python",
   "nbconvert_exporter": "python",
   "pygments_lexer": "ipython3",
   "version": "3.11.7"
  }
 },
 "nbformat": 4,
 "nbformat_minor": 5
}
