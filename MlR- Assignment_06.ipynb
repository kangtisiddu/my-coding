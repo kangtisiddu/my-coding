{
 "cells": [
  {
   "cell_type": "code",
   "execution_count": 72,
   "id": "830dab8b-0702-4e49-8089-df8c587a13e8",
   "metadata": {},
   "outputs": [],
   "source": [
    "# import all librarires required\n",
    "import pandas as pd\n",
    "import numpy as np\n",
    "import matplotlib.pyplot as plt\n",
    "import seaborn as sns"
   ]
  },
  {
   "cell_type": "code",
   "execution_count": 73,
   "id": "90127643-6e20-41ba-9f5a-3b6fa1783180",
   "metadata": {},
   "outputs": [],
   "source": [
    "df = pd.read_csv(r\"C:\\Users\\sidduling\\Downloads\\Toyota corolla.csv\")"
   ]
  },
  {
   "cell_type": "code",
   "execution_count": 74,
   "id": "60d9a8be-18e8-4c09-bfbd-6789d8ddb516",
   "metadata": {},
   "outputs": [
    {
     "data": {
      "text/html": [
       "<div>\n",
       "<style scoped>\n",
       "    .dataframe tbody tr th:only-of-type {\n",
       "        vertical-align: middle;\n",
       "    }\n",
       "\n",
       "    .dataframe tbody tr th {\n",
       "        vertical-align: top;\n",
       "    }\n",
       "\n",
       "    .dataframe thead th {\n",
       "        text-align: right;\n",
       "    }\n",
       "</style>\n",
       "<table border=\"1\" class=\"dataframe\">\n",
       "  <thead>\n",
       "    <tr style=\"text-align: right;\">\n",
       "      <th></th>\n",
       "      <th>Price</th>\n",
       "      <th>Age_08_04</th>\n",
       "      <th>KM</th>\n",
       "      <th>Fuel_Type</th>\n",
       "      <th>HP</th>\n",
       "      <th>Automatic</th>\n",
       "      <th>cc</th>\n",
       "      <th>Doors</th>\n",
       "      <th>Cylinders</th>\n",
       "      <th>Gears</th>\n",
       "      <th>Weight</th>\n",
       "    </tr>\n",
       "  </thead>\n",
       "  <tbody>\n",
       "    <tr>\n",
       "      <th>0</th>\n",
       "      <td>13500</td>\n",
       "      <td>23</td>\n",
       "      <td>46986</td>\n",
       "      <td>Diesel</td>\n",
       "      <td>90</td>\n",
       "      <td>0</td>\n",
       "      <td>2000</td>\n",
       "      <td>3</td>\n",
       "      <td>4</td>\n",
       "      <td>5</td>\n",
       "      <td>1165</td>\n",
       "    </tr>\n",
       "    <tr>\n",
       "      <th>1</th>\n",
       "      <td>13750</td>\n",
       "      <td>23</td>\n",
       "      <td>72937</td>\n",
       "      <td>Diesel</td>\n",
       "      <td>90</td>\n",
       "      <td>0</td>\n",
       "      <td>2000</td>\n",
       "      <td>3</td>\n",
       "      <td>4</td>\n",
       "      <td>5</td>\n",
       "      <td>1165</td>\n",
       "    </tr>\n",
       "    <tr>\n",
       "      <th>2</th>\n",
       "      <td>13950</td>\n",
       "      <td>24</td>\n",
       "      <td>41711</td>\n",
       "      <td>Diesel</td>\n",
       "      <td>90</td>\n",
       "      <td>0</td>\n",
       "      <td>2000</td>\n",
       "      <td>3</td>\n",
       "      <td>4</td>\n",
       "      <td>5</td>\n",
       "      <td>1165</td>\n",
       "    </tr>\n",
       "    <tr>\n",
       "      <th>3</th>\n",
       "      <td>14950</td>\n",
       "      <td>26</td>\n",
       "      <td>48000</td>\n",
       "      <td>Diesel</td>\n",
       "      <td>90</td>\n",
       "      <td>0</td>\n",
       "      <td>2000</td>\n",
       "      <td>3</td>\n",
       "      <td>4</td>\n",
       "      <td>5</td>\n",
       "      <td>1165</td>\n",
       "    </tr>\n",
       "    <tr>\n",
       "      <th>4</th>\n",
       "      <td>13750</td>\n",
       "      <td>30</td>\n",
       "      <td>38500</td>\n",
       "      <td>Diesel</td>\n",
       "      <td>90</td>\n",
       "      <td>0</td>\n",
       "      <td>2000</td>\n",
       "      <td>3</td>\n",
       "      <td>4</td>\n",
       "      <td>5</td>\n",
       "      <td>1170</td>\n",
       "    </tr>\n",
       "    <tr>\n",
       "      <th>...</th>\n",
       "      <td>...</td>\n",
       "      <td>...</td>\n",
       "      <td>...</td>\n",
       "      <td>...</td>\n",
       "      <td>...</td>\n",
       "      <td>...</td>\n",
       "      <td>...</td>\n",
       "      <td>...</td>\n",
       "      <td>...</td>\n",
       "      <td>...</td>\n",
       "      <td>...</td>\n",
       "    </tr>\n",
       "    <tr>\n",
       "      <th>1431</th>\n",
       "      <td>7500</td>\n",
       "      <td>69</td>\n",
       "      <td>20544</td>\n",
       "      <td>Petrol</td>\n",
       "      <td>86</td>\n",
       "      <td>0</td>\n",
       "      <td>1300</td>\n",
       "      <td>3</td>\n",
       "      <td>4</td>\n",
       "      <td>5</td>\n",
       "      <td>1025</td>\n",
       "    </tr>\n",
       "    <tr>\n",
       "      <th>1432</th>\n",
       "      <td>10845</td>\n",
       "      <td>72</td>\n",
       "      <td>19000</td>\n",
       "      <td>Petrol</td>\n",
       "      <td>86</td>\n",
       "      <td>0</td>\n",
       "      <td>1300</td>\n",
       "      <td>3</td>\n",
       "      <td>4</td>\n",
       "      <td>5</td>\n",
       "      <td>1015</td>\n",
       "    </tr>\n",
       "    <tr>\n",
       "      <th>1433</th>\n",
       "      <td>8500</td>\n",
       "      <td>71</td>\n",
       "      <td>17016</td>\n",
       "      <td>Petrol</td>\n",
       "      <td>86</td>\n",
       "      <td>0</td>\n",
       "      <td>1300</td>\n",
       "      <td>3</td>\n",
       "      <td>4</td>\n",
       "      <td>5</td>\n",
       "      <td>1015</td>\n",
       "    </tr>\n",
       "    <tr>\n",
       "      <th>1434</th>\n",
       "      <td>7250</td>\n",
       "      <td>70</td>\n",
       "      <td>16916</td>\n",
       "      <td>Petrol</td>\n",
       "      <td>86</td>\n",
       "      <td>0</td>\n",
       "      <td>1300</td>\n",
       "      <td>3</td>\n",
       "      <td>4</td>\n",
       "      <td>5</td>\n",
       "      <td>1015</td>\n",
       "    </tr>\n",
       "    <tr>\n",
       "      <th>1435</th>\n",
       "      <td>6950</td>\n",
       "      <td>76</td>\n",
       "      <td>1</td>\n",
       "      <td>Petrol</td>\n",
       "      <td>110</td>\n",
       "      <td>0</td>\n",
       "      <td>1600</td>\n",
       "      <td>5</td>\n",
       "      <td>4</td>\n",
       "      <td>5</td>\n",
       "      <td>1114</td>\n",
       "    </tr>\n",
       "  </tbody>\n",
       "</table>\n",
       "<p>1436 rows × 11 columns</p>\n",
       "</div>"
      ],
      "text/plain": [
       "      Price  Age_08_04     KM Fuel_Type   HP  Automatic    cc  Doors  \\\n",
       "0     13500         23  46986    Diesel   90          0  2000      3   \n",
       "1     13750         23  72937    Diesel   90          0  2000      3   \n",
       "2     13950         24  41711    Diesel   90          0  2000      3   \n",
       "3     14950         26  48000    Diesel   90          0  2000      3   \n",
       "4     13750         30  38500    Diesel   90          0  2000      3   \n",
       "...     ...        ...    ...       ...  ...        ...   ...    ...   \n",
       "1431   7500         69  20544    Petrol   86          0  1300      3   \n",
       "1432  10845         72  19000    Petrol   86          0  1300      3   \n",
       "1433   8500         71  17016    Petrol   86          0  1300      3   \n",
       "1434   7250         70  16916    Petrol   86          0  1300      3   \n",
       "1435   6950         76      1    Petrol  110          0  1600      5   \n",
       "\n",
       "      Cylinders  Gears  Weight  \n",
       "0             4      5    1165  \n",
       "1             4      5    1165  \n",
       "2             4      5    1165  \n",
       "3             4      5    1165  \n",
       "4             4      5    1170  \n",
       "...         ...    ...     ...  \n",
       "1431          4      5    1025  \n",
       "1432          4      5    1015  \n",
       "1433          4      5    1015  \n",
       "1434          4      5    1015  \n",
       "1435          4      5    1114  \n",
       "\n",
       "[1436 rows x 11 columns]"
      ]
     },
     "execution_count": 74,
     "metadata": {},
     "output_type": "execute_result"
    }
   ],
   "source": [
    "df"
   ]
  },
  {
   "cell_type": "code",
   "execution_count": 75,
   "id": "10d69ed2-4027-43dd-84d1-48513011e392",
   "metadata": {},
   "outputs": [
    {
     "data": {
      "text/html": [
       "<div>\n",
       "<style scoped>\n",
       "    .dataframe tbody tr th:only-of-type {\n",
       "        vertical-align: middle;\n",
       "    }\n",
       "\n",
       "    .dataframe tbody tr th {\n",
       "        vertical-align: top;\n",
       "    }\n",
       "\n",
       "    .dataframe thead th {\n",
       "        text-align: right;\n",
       "    }\n",
       "</style>\n",
       "<table border=\"1\" class=\"dataframe\">\n",
       "  <thead>\n",
       "    <tr style=\"text-align: right;\">\n",
       "      <th></th>\n",
       "      <th>Price</th>\n",
       "      <th>Age_08_04</th>\n",
       "      <th>KM</th>\n",
       "      <th>HP</th>\n",
       "      <th>Automatic</th>\n",
       "      <th>cc</th>\n",
       "      <th>Doors</th>\n",
       "      <th>Cylinders</th>\n",
       "      <th>Gears</th>\n",
       "      <th>Weight</th>\n",
       "    </tr>\n",
       "  </thead>\n",
       "  <tbody>\n",
       "    <tr>\n",
       "      <th>count</th>\n",
       "      <td>1436.000000</td>\n",
       "      <td>1436.000000</td>\n",
       "      <td>1436.000000</td>\n",
       "      <td>1436.000000</td>\n",
       "      <td>1436.000000</td>\n",
       "      <td>1436.00000</td>\n",
       "      <td>1436.000000</td>\n",
       "      <td>1436.0</td>\n",
       "      <td>1436.000000</td>\n",
       "      <td>1436.00000</td>\n",
       "    </tr>\n",
       "    <tr>\n",
       "      <th>mean</th>\n",
       "      <td>10730.824513</td>\n",
       "      <td>55.947075</td>\n",
       "      <td>68533.259749</td>\n",
       "      <td>101.502089</td>\n",
       "      <td>0.055710</td>\n",
       "      <td>1576.85585</td>\n",
       "      <td>4.033426</td>\n",
       "      <td>4.0</td>\n",
       "      <td>5.026462</td>\n",
       "      <td>1072.45961</td>\n",
       "    </tr>\n",
       "    <tr>\n",
       "      <th>std</th>\n",
       "      <td>3626.964585</td>\n",
       "      <td>18.599988</td>\n",
       "      <td>37506.448872</td>\n",
       "      <td>14.981080</td>\n",
       "      <td>0.229441</td>\n",
       "      <td>424.38677</td>\n",
       "      <td>0.952677</td>\n",
       "      <td>0.0</td>\n",
       "      <td>0.188510</td>\n",
       "      <td>52.64112</td>\n",
       "    </tr>\n",
       "    <tr>\n",
       "      <th>min</th>\n",
       "      <td>4350.000000</td>\n",
       "      <td>1.000000</td>\n",
       "      <td>1.000000</td>\n",
       "      <td>69.000000</td>\n",
       "      <td>0.000000</td>\n",
       "      <td>1300.00000</td>\n",
       "      <td>2.000000</td>\n",
       "      <td>4.0</td>\n",
       "      <td>3.000000</td>\n",
       "      <td>1000.00000</td>\n",
       "    </tr>\n",
       "    <tr>\n",
       "      <th>25%</th>\n",
       "      <td>8450.000000</td>\n",
       "      <td>44.000000</td>\n",
       "      <td>43000.000000</td>\n",
       "      <td>90.000000</td>\n",
       "      <td>0.000000</td>\n",
       "      <td>1400.00000</td>\n",
       "      <td>3.000000</td>\n",
       "      <td>4.0</td>\n",
       "      <td>5.000000</td>\n",
       "      <td>1040.00000</td>\n",
       "    </tr>\n",
       "    <tr>\n",
       "      <th>50%</th>\n",
       "      <td>9900.000000</td>\n",
       "      <td>61.000000</td>\n",
       "      <td>63389.500000</td>\n",
       "      <td>110.000000</td>\n",
       "      <td>0.000000</td>\n",
       "      <td>1600.00000</td>\n",
       "      <td>4.000000</td>\n",
       "      <td>4.0</td>\n",
       "      <td>5.000000</td>\n",
       "      <td>1070.00000</td>\n",
       "    </tr>\n",
       "    <tr>\n",
       "      <th>75%</th>\n",
       "      <td>11950.000000</td>\n",
       "      <td>70.000000</td>\n",
       "      <td>87020.750000</td>\n",
       "      <td>110.000000</td>\n",
       "      <td>0.000000</td>\n",
       "      <td>1600.00000</td>\n",
       "      <td>5.000000</td>\n",
       "      <td>4.0</td>\n",
       "      <td>5.000000</td>\n",
       "      <td>1085.00000</td>\n",
       "    </tr>\n",
       "    <tr>\n",
       "      <th>max</th>\n",
       "      <td>32500.000000</td>\n",
       "      <td>80.000000</td>\n",
       "      <td>243000.000000</td>\n",
       "      <td>192.000000</td>\n",
       "      <td>1.000000</td>\n",
       "      <td>16000.00000</td>\n",
       "      <td>5.000000</td>\n",
       "      <td>4.0</td>\n",
       "      <td>6.000000</td>\n",
       "      <td>1615.00000</td>\n",
       "    </tr>\n",
       "  </tbody>\n",
       "</table>\n",
       "</div>"
      ],
      "text/plain": [
       "              Price    Age_08_04             KM           HP    Automatic  \\\n",
       "count   1436.000000  1436.000000    1436.000000  1436.000000  1436.000000   \n",
       "mean   10730.824513    55.947075   68533.259749   101.502089     0.055710   \n",
       "std     3626.964585    18.599988   37506.448872    14.981080     0.229441   \n",
       "min     4350.000000     1.000000       1.000000    69.000000     0.000000   \n",
       "25%     8450.000000    44.000000   43000.000000    90.000000     0.000000   \n",
       "50%     9900.000000    61.000000   63389.500000   110.000000     0.000000   \n",
       "75%    11950.000000    70.000000   87020.750000   110.000000     0.000000   \n",
       "max    32500.000000    80.000000  243000.000000   192.000000     1.000000   \n",
       "\n",
       "                cc        Doors  Cylinders        Gears      Weight  \n",
       "count   1436.00000  1436.000000     1436.0  1436.000000  1436.00000  \n",
       "mean    1576.85585     4.033426        4.0     5.026462  1072.45961  \n",
       "std      424.38677     0.952677        0.0     0.188510    52.64112  \n",
       "min     1300.00000     2.000000        4.0     3.000000  1000.00000  \n",
       "25%     1400.00000     3.000000        4.0     5.000000  1040.00000  \n",
       "50%     1600.00000     4.000000        4.0     5.000000  1070.00000  \n",
       "75%     1600.00000     5.000000        4.0     5.000000  1085.00000  \n",
       "max    16000.00000     5.000000        4.0     6.000000  1615.00000  "
      ]
     },
     "execution_count": 75,
     "metadata": {},
     "output_type": "execute_result"
    }
   ],
   "source": [
    "df.describe()      # statistical Analysis"
   ]
  },
  {
   "cell_type": "markdown",
   "id": "2cd555a5-d001-4c6a-a72c-621dfad3d6fd",
   "metadata": {},
   "source": [
    "Here we got all statistical summary on continous columns (x varibales) "
   ]
  },
  {
   "cell_type": "code",
   "execution_count": 76,
   "id": "d7327e75-0e6c-4a73-9e52-175b69ee34ee",
   "metadata": {},
   "outputs": [
    {
     "name": "stderr",
     "output_type": "stream",
     "text": [
      "C:\\Users\\sidduling\\anaconda3\\Lib\\site-packages\\seaborn\\_oldcore.py:1119: FutureWarning: use_inf_as_na option is deprecated and will be removed in a future version. Convert inf values to NaN before operating instead.\n",
      "  with pd.option_context('mode.use_inf_as_na', True):\n"
     ]
    },
    {
     "data": {
      "image/png": "[encoded data removed]",
      "text/plain": [
       "<Figure size 600x400 with 1 Axes>"
      ]
     },
     "metadata": {},
     "output_type": "display_data"
    }
   ],
   "source": [
    "#EDA on dataset\n",
    "\n",
    "#price distribution\n",
    "plt.figure(figsize=(6,4))\n",
    "sns.histplot(df[\"Price\"])\n",
    "plt.title(\"distribution of car prices\")\n",
    "plt.xlabel(\"Price\")\n",
    "plt.ylabel(\"Count\")\n",
    "plt.show()"
   ]
  },
  {
   "cell_type": "markdown",
   "id": "3be7fbbd-14e7-41fd-bbf1-982ebea37438",
   "metadata": {},
   "source": [
    "Here we understood by looking the above distribution majority of the cars in between 7000 to 13000 Euros price cars are more in dataset given"
   ]
  },
  {
   "cell_type": "code",
   "execution_count": 77,
   "id": "27652e1e-19bd-47bd-bddc-1dc16976481d",
   "metadata": {},
   "outputs": [
    {
     "data": {
      "image/png": "[encoded data removed]",
      "text/plain": [
       "<Figure size 800x500 with 1 Axes>"
      ]
     },
     "metadata": {},
     "output_type": "display_data"
    },
    {
     "data": {
      "image/png": "[encoded data removed]",
      "text/plain": [
       "<Figure size 800x500 with 1 Axes>"
      ]
     },
     "metadata": {},
     "output_type": "display_data"
    },
    {
     "data": {
      "image/png": "[encoded data removed]",
      "text/plain": [
       "<Figure size 800x500 with 1 Axes>"
      ]
     },
     "metadata": {},
     "output_type": "display_data"
    },
    {
     "data": {
      "image/png": "[encoded data removed]",
      "text/plain": [
       "<Figure size 800x500 with 1 Axes>"
      ]
     },
     "metadata": {},
     "output_type": "display_data"
    }
   ],
   "source": [
    "# Count plots for categorical features\n",
    "categorical_features = ['Fuel_Type', 'Automatic', 'Doors', 'Gears']\n",
    "for feature in categorical_features:\n",
    "    plt.figure(figsize=(8, 5))\n",
    "    sns.countplot(x=feature, data=df, order=df[feature].value_counts().index)\n",
    "    plt.title(f'Count of {feature}', fontsize=15)\n",
    "    plt.xlabel(feature)\n",
    "    plt.ylabel('Count')\n",
    "    plt.savefig(f'{feature}_countplot.png')\n",
    "    plt.show()\n",
    " "
   ]
  },
  {
   "cell_type": "code",
   "execution_count": 78,
   "id": "5282501a-2dd6-4bf9-a63b-fc74d24df953",
   "metadata": {},
   "outputs": [
    {
     "name": "stderr",
     "output_type": "stream",
     "text": [
      "C:\\Users\\sidduling\\anaconda3\\Lib\\site-packages\\seaborn\\_oldcore.py:1119: FutureWarning: use_inf_as_na option is deprecated and will be removed in a future version. Convert inf values to NaN before operating instead.\n",
      "  with pd.option_context('mode.use_inf_as_na', True):\n"
     ]
    },
    {
     "data": {
      "image/png": "[encoded data removed]",
      "text/plain": [
       "<Figure size 800x500 with 1 Axes>"
      ]
     },
     "metadata": {},
     "output_type": "display_data"
    },
    {
     "name": "stderr",
     "output_type": "stream",
     "text": [
      "C:\\Users\\sidduling\\anaconda3\\Lib\\site-packages\\seaborn\\_oldcore.py:1119: FutureWarning: use_inf_as_na option is deprecated and will be removed in a future version. Convert inf values to NaN before operating instead.\n",
      "  with pd.option_context('mode.use_inf_as_na', True):\n"
     ]
    },
    {
     "data": {
      "image/png": "[encoded data removed]",
      "text/plain": [
       "<Figure size 800x500 with 1 Axes>"
      ]
     },
     "metadata": {},
     "output_type": "display_data"
    },
    {
     "name": "stderr",
     "output_type": "stream",
     "text": [
      "C:\\Users\\sidduling\\anaconda3\\Lib\\site-packages\\seaborn\\_oldcore.py:1119: FutureWarning: use_inf_as_na option is deprecated and will be removed in a future version. Convert inf values to NaN before operating instead.\n",
      "  with pd.option_context('mode.use_inf_as_na', True):\n"
     ]
    },
    {
     "data": {
      "image/png": "[encoded data removed]",
      "text/plain": [
       "<Figure size 800x500 with 1 Axes>"
      ]
     },
     "metadata": {},
     "output_type": "display_data"
    },
    {
     "name": "stderr",
     "output_type": "stream",
     "text": [
      "C:\\Users\\sidduling\\anaconda3\\Lib\\site-packages\\seaborn\\_oldcore.py:1119: FutureWarning: use_inf_as_na option is deprecated and will be removed in a future version. Convert inf values to NaN before operating instead.\n",
      "  with pd.option_context('mode.use_inf_as_na', True):\n"
     ]
    },
    {
     "data": {
      "image/png": "[encoded data removed]",
      "text/plain": [
       "<Figure size 800x500 with 1 Axes>"
      ]
     },
     "metadata": {},
     "output_type": "display_data"
    },
    {
     "name": "stderr",
     "output_type": "stream",
     "text": [
      "C:\\Users\\sidduling\\anaconda3\\Lib\\site-packages\\seaborn\\_oldcore.py:1119: FutureWarning: use_inf_as_na option is deprecated and will be removed in a future version. Convert inf values to NaN before operating instead.\n",
      "  with pd.option_context('mode.use_inf_as_na', True):\n"
     ]
    },
    {
     "data": {
      "image/png": "[encoded data removed]",
      "text/plain": [
       "<Figure size 800x500 with 1 Axes>"
      ]
     },
     "metadata": {},
     "output_type": "display_data"
    }
   ],
   "source": [
    "# Histograms for numerical features\n",
    "numerical_features = ['Price', 'Age_08_04', 'KM', 'HP', 'Weight']\n",
    "for feature in numerical_features:\n",
    "    plt.figure(figsize=(8, 5))\n",
    "    sns.histplot(df[feature], kde=True)\n",
    "    plt.title(f'Distribution of {feature}', fontsize=15)\n",
    "    plt.xlabel(feature)\n",
    "    plt.ylabel('Frequency')\n",
    "    plt.savefig(f'{feature}_distribution.png')\n",
    "    plt.show()"
   ]
  },
  {
   "cell_type": "code",
   "execution_count": 79,
   "id": "281fd279-4177-4862-80e0-90a94821991d",
   "metadata": {},
   "outputs": [
    {
     "name": "stderr",
     "output_type": "stream",
     "text": [
      "C:\\Users\\sidduling\\anaconda3\\Lib\\site-packages\\seaborn\\matrix.py:260: FutureWarning: Format strings passed to MaskedConstant are ignored, but in future may error or produce different behavior\n",
      "  annotation = (\"{:\" + self.fmt + \"}\").format(val)\n"
     ]
    },
    {
     "data": {
      "image/png": "[encoded data removed]",
      "text/plain": [
       "<Figure size 1200x1000 with 2 Axes>"
      ]
     },
     "metadata": {},
     "output_type": "display_data"
    }
   ],
   "source": [
    "#heat map\n",
    "numerical_df = df.select_dtypes(include=['int64', 'float64'])\n",
    "correlation_matrix = numerical_df.corr()\n",
    "plt.figure(figsize=(12, 10))\n",
    "sns.heatmap(correlation_matrix, annot=True, cmap='coolwarm', fmt='.2f', linewidths=.5)\n",
    "plt.title('Correlation Heatmap of Toyota Corolla Features', fontsize=15)\n",
    "plt.show()\n"
   ]
  },
  {
   "cell_type": "code",
   "execution_count": 80,
   "id": "73a55ce5-e676-4a63-812b-8636f8808ea5",
   "metadata": {},
   "outputs": [
    {
     "data": {
      "text/plain": [
       "Price        0\n",
       "Age_08_04    0\n",
       "KM           0\n",
       "Fuel_Type    0\n",
       "HP           0\n",
       "Automatic    0\n",
       "cc           0\n",
       "Doors        0\n",
       "Cylinders    0\n",
       "Gears        0\n",
       "Weight       0\n",
       "dtype: int64"
      ]
     },
     "execution_count": 80,
     "metadata": {},
     "output_type": "execute_result"
    }
   ],
   "source": [
    "#lets check any missing data is in dataset \n",
    "df.isnull().sum()"
   ]
  },
  {
   "cell_type": "markdown",
   "id": "917219a1-b7b8-45eb-9d10-1be578e0c0b1",
   "metadata": {},
   "source": [
    "There is no missing data"
   ]
  },
  {
   "cell_type": "code",
   "execution_count": 81,
   "id": "5ca92be4-3a87-4ece-87b3-5c938d3a8fd9",
   "metadata": {},
   "outputs": [
    {
     "data": {
      "text/html": [
       "<div>\n",
       "<style scoped>\n",
       "    .dataframe tbody tr th:only-of-type {\n",
       "        vertical-align: middle;\n",
       "    }\n",
       "\n",
       "    .dataframe tbody tr th {\n",
       "        vertical-align: top;\n",
       "    }\n",
       "\n",
       "    .dataframe thead th {\n",
       "        text-align: right;\n",
       "    }\n",
       "</style>\n",
       "<table border=\"1\" class=\"dataframe\">\n",
       "  <thead>\n",
       "    <tr style=\"text-align: right;\">\n",
       "      <th></th>\n",
       "      <th>Price</th>\n",
       "      <th>Age_08_04</th>\n",
       "      <th>KM</th>\n",
       "      <th>Fuel_Type</th>\n",
       "      <th>HP</th>\n",
       "      <th>Automatic</th>\n",
       "      <th>cc</th>\n",
       "      <th>Doors</th>\n",
       "      <th>Gears</th>\n",
       "      <th>Weight</th>\n",
       "    </tr>\n",
       "  </thead>\n",
       "  <tbody>\n",
       "    <tr>\n",
       "      <th>0</th>\n",
       "      <td>13500</td>\n",
       "      <td>23</td>\n",
       "      <td>46986</td>\n",
       "      <td>Diesel</td>\n",
       "      <td>90</td>\n",
       "      <td>0</td>\n",
       "      <td>2000</td>\n",
       "      <td>3</td>\n",
       "      <td>5</td>\n",
       "      <td>1165</td>\n",
       "    </tr>\n",
       "    <tr>\n",
       "      <th>1</th>\n",
       "      <td>13750</td>\n",
       "      <td>23</td>\n",
       "      <td>72937</td>\n",
       "      <td>Diesel</td>\n",
       "      <td>90</td>\n",
       "      <td>0</td>\n",
       "      <td>2000</td>\n",
       "      <td>3</td>\n",
       "      <td>5</td>\n",
       "      <td>1165</td>\n",
       "    </tr>\n",
       "    <tr>\n",
       "      <th>2</th>\n",
       "      <td>13950</td>\n",
       "      <td>24</td>\n",
       "      <td>41711</td>\n",
       "      <td>Diesel</td>\n",
       "      <td>90</td>\n",
       "      <td>0</td>\n",
       "      <td>2000</td>\n",
       "      <td>3</td>\n",
       "      <td>5</td>\n",
       "      <td>1165</td>\n",
       "    </tr>\n",
       "    <tr>\n",
       "      <th>3</th>\n",
       "      <td>14950</td>\n",
       "      <td>26</td>\n",
       "      <td>48000</td>\n",
       "      <td>Diesel</td>\n",
       "      <td>90</td>\n",
       "      <td>0</td>\n",
       "      <td>2000</td>\n",
       "      <td>3</td>\n",
       "      <td>5</td>\n",
       "      <td>1165</td>\n",
       "    </tr>\n",
       "    <tr>\n",
       "      <th>4</th>\n",
       "      <td>13750</td>\n",
       "      <td>30</td>\n",
       "      <td>38500</td>\n",
       "      <td>Diesel</td>\n",
       "      <td>90</td>\n",
       "      <td>0</td>\n",
       "      <td>2000</td>\n",
       "      <td>3</td>\n",
       "      <td>5</td>\n",
       "      <td>1170</td>\n",
       "    </tr>\n",
       "    <tr>\n",
       "      <th>...</th>\n",
       "      <td>...</td>\n",
       "      <td>...</td>\n",
       "      <td>...</td>\n",
       "      <td>...</td>\n",
       "      <td>...</td>\n",
       "      <td>...</td>\n",
       "      <td>...</td>\n",
       "      <td>...</td>\n",
       "      <td>...</td>\n",
       "      <td>...</td>\n",
       "    </tr>\n",
       "    <tr>\n",
       "      <th>1431</th>\n",
       "      <td>7500</td>\n",
       "      <td>69</td>\n",
       "      <td>20544</td>\n",
       "      <td>Petrol</td>\n",
       "      <td>86</td>\n",
       "      <td>0</td>\n",
       "      <td>1300</td>\n",
       "      <td>3</td>\n",
       "      <td>5</td>\n",
       "      <td>1025</td>\n",
       "    </tr>\n",
       "    <tr>\n",
       "      <th>1432</th>\n",
       "      <td>10845</td>\n",
       "      <td>72</td>\n",
       "      <td>19000</td>\n",
       "      <td>Petrol</td>\n",
       "      <td>86</td>\n",
       "      <td>0</td>\n",
       "      <td>1300</td>\n",
       "      <td>3</td>\n",
       "      <td>5</td>\n",
       "      <td>1015</td>\n",
       "    </tr>\n",
       "    <tr>\n",
       "      <th>1433</th>\n",
       "      <td>8500</td>\n",
       "      <td>71</td>\n",
       "      <td>17016</td>\n",
       "      <td>Petrol</td>\n",
       "      <td>86</td>\n",
       "      <td>0</td>\n",
       "      <td>1300</td>\n",
       "      <td>3</td>\n",
       "      <td>5</td>\n",
       "      <td>1015</td>\n",
       "    </tr>\n",
       "    <tr>\n",
       "      <th>1434</th>\n",
       "      <td>7250</td>\n",
       "      <td>70</td>\n",
       "      <td>16916</td>\n",
       "      <td>Petrol</td>\n",
       "      <td>86</td>\n",
       "      <td>0</td>\n",
       "      <td>1300</td>\n",
       "      <td>3</td>\n",
       "      <td>5</td>\n",
       "      <td>1015</td>\n",
       "    </tr>\n",
       "    <tr>\n",
       "      <th>1435</th>\n",
       "      <td>6950</td>\n",
       "      <td>76</td>\n",
       "      <td>1</td>\n",
       "      <td>Petrol</td>\n",
       "      <td>110</td>\n",
       "      <td>0</td>\n",
       "      <td>1600</td>\n",
       "      <td>5</td>\n",
       "      <td>5</td>\n",
       "      <td>1114</td>\n",
       "    </tr>\n",
       "  </tbody>\n",
       "</table>\n",
       "<p>1436 rows × 10 columns</p>\n",
       "</div>"
      ],
      "text/plain": [
       "      Price  Age_08_04     KM Fuel_Type   HP  Automatic    cc  Doors  Gears  \\\n",
       "0     13500         23  46986    Diesel   90          0  2000      3      5   \n",
       "1     13750         23  72937    Diesel   90          0  2000      3      5   \n",
       "2     13950         24  41711    Diesel   90          0  2000      3      5   \n",
       "3     14950         26  48000    Diesel   90          0  2000      3      5   \n",
       "4     13750         30  38500    Diesel   90          0  2000      3      5   \n",
       "...     ...        ...    ...       ...  ...        ...   ...    ...    ...   \n",
       "1431   7500         69  20544    Petrol   86          0  1300      3      5   \n",
       "1432  10845         72  19000    Petrol   86          0  1300      3      5   \n",
       "1433   8500         71  17016    Petrol   86          0  1300      3      5   \n",
       "1434   7250         70  16916    Petrol   86          0  1300      3      5   \n",
       "1435   6950         76      1    Petrol  110          0  1600      5      5   \n",
       "\n",
       "      Weight  \n",
       "0       1165  \n",
       "1       1165  \n",
       "2       1165  \n",
       "3       1165  \n",
       "4       1170  \n",
       "...      ...  \n",
       "1431    1025  \n",
       "1432    1015  \n",
       "1433    1015  \n",
       "1434    1015  \n",
       "1435    1114  \n",
       "\n",
       "[1436 rows x 10 columns]"
      ]
     },
     "execution_count": 81,
     "metadata": {},
     "output_type": "execute_result"
    }
   ],
   "source": [
    "df_cleaned=df.drop(columns=['Cylinders'])\n",
    "df_cleaned"
   ]
  },
  {
   "cell_type": "markdown",
   "id": "f82652ec-712f-40d7-839c-3d73dd7eb807",
   "metadata": {},
   "source": [
    "there we observe that the cylinder column contaions all rows 0's then we can drop it to reduce the deminsional of x variables "
   ]
  },
  {
   "cell_type": "code",
   "execution_count": 82,
   "id": "fc384716-300b-4ca5-89ae-4a7ad69478a1",
   "metadata": {},
   "outputs": [
    {
     "name": "stdout",
     "output_type": "stream",
     "text": [
      "<class 'pandas.core.frame.DataFrame'>\n",
      "RangeIndex: 1436 entries, 0 to 1435\n",
      "Data columns (total 11 columns):\n",
      " #   Column     Non-Null Count  Dtype \n",
      "---  ------     --------------  ----- \n",
      " 0   Price      1436 non-null   int64 \n",
      " 1   Age_08_04  1436 non-null   int64 \n",
      " 2   KM         1436 non-null   int64 \n",
      " 3   Fuel_Type  1436 non-null   object\n",
      " 4   HP         1436 non-null   int64 \n",
      " 5   Automatic  1436 non-null   int64 \n",
      " 6   cc         1436 non-null   int64 \n",
      " 7   Doors      1436 non-null   int64 \n",
      " 8   Cylinders  1436 non-null   int64 \n",
      " 9   Gears      1436 non-null   int64 \n",
      " 10  Weight     1436 non-null   int64 \n",
      "dtypes: int64(10), object(1)\n",
      "memory usage: 123.5+ KB\n"
     ]
    }
   ],
   "source": [
    "df.info()"
   ]
  },
  {
   "cell_type": "code",
   "execution_count": 83,
   "id": "359bf473-e911-47db-b31e-0899478aff2f",
   "metadata": {},
   "outputs": [
    {
     "data": {
      "text/html": [
       "<div>\n",
       "<style scoped>\n",
       "    .dataframe tbody tr th:only-of-type {\n",
       "        vertical-align: middle;\n",
       "    }\n",
       "\n",
       "    .dataframe tbody tr th {\n",
       "        vertical-align: top;\n",
       "    }\n",
       "\n",
       "    .dataframe thead th {\n",
       "        text-align: right;\n",
       "    }\n",
       "</style>\n",
       "<table border=\"1\" class=\"dataframe\">\n",
       "  <thead>\n",
       "    <tr style=\"text-align: right;\">\n",
       "      <th></th>\n",
       "      <th>Age_08_04</th>\n",
       "      <th>KM</th>\n",
       "      <th>HP</th>\n",
       "      <th>Automatic</th>\n",
       "      <th>cc</th>\n",
       "      <th>Doors</th>\n",
       "      <th>Gears</th>\n",
       "      <th>Weight</th>\n",
       "    </tr>\n",
       "  </thead>\n",
       "  <tbody>\n",
       "    <tr>\n",
       "      <th>0</th>\n",
       "      <td>-1.771966</td>\n",
       "      <td>-0.574695</td>\n",
       "      <td>-0.768042</td>\n",
       "      <td>-0.242893</td>\n",
       "      <td>0.997419</td>\n",
       "      <td>-1.085139</td>\n",
       "      <td>-0.140425</td>\n",
       "      <td>1.758561</td>\n",
       "    </tr>\n",
       "    <tr>\n",
       "      <th>1</th>\n",
       "      <td>-1.771966</td>\n",
       "      <td>0.117454</td>\n",
       "      <td>-0.768042</td>\n",
       "      <td>-0.242893</td>\n",
       "      <td>0.997419</td>\n",
       "      <td>-1.085139</td>\n",
       "      <td>-0.140425</td>\n",
       "      <td>1.758561</td>\n",
       "    </tr>\n",
       "    <tr>\n",
       "      <th>2</th>\n",
       "      <td>-1.718184</td>\n",
       "      <td>-0.715386</td>\n",
       "      <td>-0.768042</td>\n",
       "      <td>-0.242893</td>\n",
       "      <td>0.997419</td>\n",
       "      <td>-1.085139</td>\n",
       "      <td>-0.140425</td>\n",
       "      <td>1.758561</td>\n",
       "    </tr>\n",
       "    <tr>\n",
       "      <th>3</th>\n",
       "      <td>-1.610620</td>\n",
       "      <td>-0.547650</td>\n",
       "      <td>-0.768042</td>\n",
       "      <td>-0.242893</td>\n",
       "      <td>0.997419</td>\n",
       "      <td>-1.085139</td>\n",
       "      <td>-0.140425</td>\n",
       "      <td>1.758561</td>\n",
       "    </tr>\n",
       "    <tr>\n",
       "      <th>4</th>\n",
       "      <td>-1.395491</td>\n",
       "      <td>-0.801028</td>\n",
       "      <td>-0.768042</td>\n",
       "      <td>-0.242893</td>\n",
       "      <td>0.997419</td>\n",
       "      <td>-1.085139</td>\n",
       "      <td>-0.140425</td>\n",
       "      <td>1.853577</td>\n",
       "    </tr>\n",
       "    <tr>\n",
       "      <th>...</th>\n",
       "      <td>...</td>\n",
       "      <td>...</td>\n",
       "      <td>...</td>\n",
       "      <td>...</td>\n",
       "      <td>...</td>\n",
       "      <td>...</td>\n",
       "      <td>...</td>\n",
       "      <td>...</td>\n",
       "    </tr>\n",
       "    <tr>\n",
       "      <th>1431</th>\n",
       "      <td>0.702015</td>\n",
       "      <td>-1.279939</td>\n",
       "      <td>-1.035138</td>\n",
       "      <td>-0.242893</td>\n",
       "      <td>-0.652594</td>\n",
       "      <td>-1.085139</td>\n",
       "      <td>-0.140425</td>\n",
       "      <td>-0.901883</td>\n",
       "    </tr>\n",
       "    <tr>\n",
       "      <th>1432</th>\n",
       "      <td>0.863362</td>\n",
       "      <td>-1.321120</td>\n",
       "      <td>-1.035138</td>\n",
       "      <td>-0.242893</td>\n",
       "      <td>-0.652594</td>\n",
       "      <td>-1.085139</td>\n",
       "      <td>-0.140425</td>\n",
       "      <td>-1.091915</td>\n",
       "    </tr>\n",
       "    <tr>\n",
       "      <th>1433</th>\n",
       "      <td>0.809579</td>\n",
       "      <td>-1.374036</td>\n",
       "      <td>-1.035138</td>\n",
       "      <td>-0.242893</td>\n",
       "      <td>-0.652594</td>\n",
       "      <td>-1.085139</td>\n",
       "      <td>-0.140425</td>\n",
       "      <td>-1.091915</td>\n",
       "    </tr>\n",
       "    <tr>\n",
       "      <th>1434</th>\n",
       "      <td>0.755797</td>\n",
       "      <td>-1.376703</td>\n",
       "      <td>-1.035138</td>\n",
       "      <td>-0.242893</td>\n",
       "      <td>-0.652594</td>\n",
       "      <td>-1.085139</td>\n",
       "      <td>-0.140425</td>\n",
       "      <td>-1.091915</td>\n",
       "    </tr>\n",
       "    <tr>\n",
       "      <th>1435</th>\n",
       "      <td>1.078490</td>\n",
       "      <td>-1.827849</td>\n",
       "      <td>0.567440</td>\n",
       "      <td>-0.242893</td>\n",
       "      <td>0.054555</td>\n",
       "      <td>1.014941</td>\n",
       "      <td>-0.140425</td>\n",
       "      <td>0.789399</td>\n",
       "    </tr>\n",
       "  </tbody>\n",
       "</table>\n",
       "<p>1436 rows × 8 columns</p>\n",
       "</div>"
      ],
      "text/plain": [
       "      Age_08_04        KM        HP  Automatic        cc     Doors     Gears  \\\n",
       "0     -1.771966 -0.574695 -0.768042  -0.242893  0.997419 -1.085139 -0.140425   \n",
       "1     -1.771966  0.117454 -0.768042  -0.242893  0.997419 -1.085139 -0.140425   \n",
       "2     -1.718184 -0.715386 -0.768042  -0.242893  0.997419 -1.085139 -0.140425   \n",
       "3     -1.610620 -0.547650 -0.768042  -0.242893  0.997419 -1.085139 -0.140425   \n",
       "4     -1.395491 -0.801028 -0.768042  -0.242893  0.997419 -1.085139 -0.140425   \n",
       "...         ...       ...       ...        ...       ...       ...       ...   \n",
       "1431   0.702015 -1.279939 -1.035138  -0.242893 -0.652594 -1.085139 -0.140425   \n",
       "1432   0.863362 -1.321120 -1.035138  -0.242893 -0.652594 -1.085139 -0.140425   \n",
       "1433   0.809579 -1.374036 -1.035138  -0.242893 -0.652594 -1.085139 -0.140425   \n",
       "1434   0.755797 -1.376703 -1.035138  -0.242893 -0.652594 -1.085139 -0.140425   \n",
       "1435   1.078490 -1.827849  0.567440  -0.242893  0.054555  1.014941 -0.140425   \n",
       "\n",
       "        Weight  \n",
       "0     1.758561  \n",
       "1     1.758561  \n",
       "2     1.758561  \n",
       "3     1.758561  \n",
       "4     1.853577  \n",
       "...        ...  \n",
       "1431 -0.901883  \n",
       "1432 -1.091915  \n",
       "1433 -1.091915  \n",
       "1434 -1.091915  \n",
       "1435  0.789399  \n",
       "\n",
       "[1436 rows x 8 columns]"
      ]
     },
     "execution_count": 83,
     "metadata": {},
     "output_type": "execute_result"
    }
   ],
   "source": [
    "#Data Preprocessing \n",
    "#applying DATA TRANSFORMATION techinques\n",
    "# converting contiounus variables to standardization\n",
    "#expect the price variable lets standardize all variables because it is target variable\n",
    "X=df[df.columns[[1,2,4,5,6,7,9,10]]]\n",
    "from sklearn.preprocessing import StandardScaler\n",
    "SS= StandardScaler()\n",
    "SS_X = SS.fit_transform(X)\n",
    "SS_X = pd.DataFrame(SS_X)\n",
    "SS_X.columns=list(X)\n",
    "SS_X"
   ]
  },
  {
   "cell_type": "code",
   "execution_count": 84,
   "id": "2cf56eeb-b46b-45a5-922e-df45a948ac98",
   "metadata": {},
   "outputs": [
    {
     "data": {
      "text/html": [
       "<div>\n",
       "<style scoped>\n",
       "    .dataframe tbody tr th:only-of-type {\n",
       "        vertical-align: middle;\n",
       "    }\n",
       "\n",
       "    .dataframe tbody tr th {\n",
       "        vertical-align: top;\n",
       "    }\n",
       "\n",
       "    .dataframe thead th {\n",
       "        text-align: right;\n",
       "    }\n",
       "</style>\n",
       "<table border=\"1\" class=\"dataframe\">\n",
       "  <thead>\n",
       "    <tr style=\"text-align: right;\">\n",
       "      <th></th>\n",
       "      <th>Fuel_Type_Diesel</th>\n",
       "      <th>Fuel_Type_Petrol</th>\n",
       "    </tr>\n",
       "  </thead>\n",
       "  <tbody>\n",
       "    <tr>\n",
       "      <th>0</th>\n",
       "      <td>1</td>\n",
       "      <td>0</td>\n",
       "    </tr>\n",
       "    <tr>\n",
       "      <th>1</th>\n",
       "      <td>1</td>\n",
       "      <td>0</td>\n",
       "    </tr>\n",
       "    <tr>\n",
       "      <th>2</th>\n",
       "      <td>1</td>\n",
       "      <td>0</td>\n",
       "    </tr>\n",
       "    <tr>\n",
       "      <th>3</th>\n",
       "      <td>1</td>\n",
       "      <td>0</td>\n",
       "    </tr>\n",
       "    <tr>\n",
       "      <th>4</th>\n",
       "      <td>1</td>\n",
       "      <td>0</td>\n",
       "    </tr>\n",
       "    <tr>\n",
       "      <th>...</th>\n",
       "      <td>...</td>\n",
       "      <td>...</td>\n",
       "    </tr>\n",
       "    <tr>\n",
       "      <th>1431</th>\n",
       "      <td>0</td>\n",
       "      <td>1</td>\n",
       "    </tr>\n",
       "    <tr>\n",
       "      <th>1432</th>\n",
       "      <td>0</td>\n",
       "      <td>1</td>\n",
       "    </tr>\n",
       "    <tr>\n",
       "      <th>1433</th>\n",
       "      <td>0</td>\n",
       "      <td>1</td>\n",
       "    </tr>\n",
       "    <tr>\n",
       "      <th>1434</th>\n",
       "      <td>0</td>\n",
       "      <td>1</td>\n",
       "    </tr>\n",
       "    <tr>\n",
       "      <th>1435</th>\n",
       "      <td>0</td>\n",
       "      <td>1</td>\n",
       "    </tr>\n",
       "  </tbody>\n",
       "</table>\n",
       "<p>1436 rows × 2 columns</p>\n",
       "</div>"
      ],
      "text/plain": [
       "      Fuel_Type_Diesel  Fuel_Type_Petrol\n",
       "0                    1                 0\n",
       "1                    1                 0\n",
       "2                    1                 0\n",
       "3                    1                 0\n",
       "4                    1                 0\n",
       "...                ...               ...\n",
       "1431                 0                 1\n",
       "1432                 0                 1\n",
       "1433                 0                 1\n",
       "1434                 0                 1\n",
       "1435                 0                 1\n",
       "\n",
       "[1436 rows x 2 columns]"
      ]
     },
     "execution_count": 84,
     "metadata": {},
     "output_type": "execute_result"
    }
   ],
   "source": [
    "# converting categorical data by using label encoding\n",
    "cat_fuel = pd.get_dummies(df['Fuel_Type'], prefix='Fuel_Type',dtype=int, drop_first=True)\n",
    "cat_fuel"
   ]
  },
  {
   "cell_type": "code",
   "execution_count": 85,
   "id": "5f9dbf11-a7d6-45d6-a07b-8ffc7c7a4790",
   "metadata": {},
   "outputs": [
    {
     "data": {
      "text/html": [
       "<div>\n",
       "<style scoped>\n",
       "    .dataframe tbody tr th:only-of-type {\n",
       "        vertical-align: middle;\n",
       "    }\n",
       "\n",
       "    .dataframe tbody tr th {\n",
       "        vertical-align: top;\n",
       "    }\n",
       "\n",
       "    .dataframe thead th {\n",
       "        text-align: right;\n",
       "    }\n",
       "</style>\n",
       "<table border=\"1\" class=\"dataframe\">\n",
       "  <thead>\n",
       "    <tr style=\"text-align: right;\">\n",
       "      <th></th>\n",
       "      <th>Age_08_04</th>\n",
       "      <th>KM</th>\n",
       "      <th>HP</th>\n",
       "      <th>Automatic</th>\n",
       "      <th>cc</th>\n",
       "      <th>Doors</th>\n",
       "      <th>Gears</th>\n",
       "      <th>Weight</th>\n",
       "      <th>Fuel_Type_Diesel</th>\n",
       "      <th>Fuel_Type_Petrol</th>\n",
       "      <th>Price</th>\n",
       "    </tr>\n",
       "  </thead>\n",
       "  <tbody>\n",
       "    <tr>\n",
       "      <th>0</th>\n",
       "      <td>-1.771966</td>\n",
       "      <td>-0.574695</td>\n",
       "      <td>-0.768042</td>\n",
       "      <td>-0.242893</td>\n",
       "      <td>0.997419</td>\n",
       "      <td>-1.085139</td>\n",
       "      <td>-0.140425</td>\n",
       "      <td>1.758561</td>\n",
       "      <td>1</td>\n",
       "      <td>0</td>\n",
       "      <td>13500</td>\n",
       "    </tr>\n",
       "    <tr>\n",
       "      <th>1</th>\n",
       "      <td>-1.771966</td>\n",
       "      <td>0.117454</td>\n",
       "      <td>-0.768042</td>\n",
       "      <td>-0.242893</td>\n",
       "      <td>0.997419</td>\n",
       "      <td>-1.085139</td>\n",
       "      <td>-0.140425</td>\n",
       "      <td>1.758561</td>\n",
       "      <td>1</td>\n",
       "      <td>0</td>\n",
       "      <td>13750</td>\n",
       "    </tr>\n",
       "    <tr>\n",
       "      <th>2</th>\n",
       "      <td>-1.718184</td>\n",
       "      <td>-0.715386</td>\n",
       "      <td>-0.768042</td>\n",
       "      <td>-0.242893</td>\n",
       "      <td>0.997419</td>\n",
       "      <td>-1.085139</td>\n",
       "      <td>-0.140425</td>\n",
       "      <td>1.758561</td>\n",
       "      <td>1</td>\n",
       "      <td>0</td>\n",
       "      <td>13950</td>\n",
       "    </tr>\n",
       "    <tr>\n",
       "      <th>3</th>\n",
       "      <td>-1.610620</td>\n",
       "      <td>-0.547650</td>\n",
       "      <td>-0.768042</td>\n",
       "      <td>-0.242893</td>\n",
       "      <td>0.997419</td>\n",
       "      <td>-1.085139</td>\n",
       "      <td>-0.140425</td>\n",
       "      <td>1.758561</td>\n",
       "      <td>1</td>\n",
       "      <td>0</td>\n",
       "      <td>14950</td>\n",
       "    </tr>\n",
       "    <tr>\n",
       "      <th>4</th>\n",
       "      <td>-1.395491</td>\n",
       "      <td>-0.801028</td>\n",
       "      <td>-0.768042</td>\n",
       "      <td>-0.242893</td>\n",
       "      <td>0.997419</td>\n",
       "      <td>-1.085139</td>\n",
       "      <td>-0.140425</td>\n",
       "      <td>1.853577</td>\n",
       "      <td>1</td>\n",
       "      <td>0</td>\n",
       "      <td>13750</td>\n",
       "    </tr>\n",
       "    <tr>\n",
       "      <th>...</th>\n",
       "      <td>...</td>\n",
       "      <td>...</td>\n",
       "      <td>...</td>\n",
       "      <td>...</td>\n",
       "      <td>...</td>\n",
       "      <td>...</td>\n",
       "      <td>...</td>\n",
       "      <td>...</td>\n",
       "      <td>...</td>\n",
       "      <td>...</td>\n",
       "      <td>...</td>\n",
       "    </tr>\n",
       "    <tr>\n",
       "      <th>1431</th>\n",
       "      <td>0.702015</td>\n",
       "      <td>-1.279939</td>\n",
       "      <td>-1.035138</td>\n",
       "      <td>-0.242893</td>\n",
       "      <td>-0.652594</td>\n",
       "      <td>-1.085139</td>\n",
       "      <td>-0.140425</td>\n",
       "      <td>-0.901883</td>\n",
       "      <td>0</td>\n",
       "      <td>1</td>\n",
       "      <td>7500</td>\n",
       "    </tr>\n",
       "    <tr>\n",
       "      <th>1432</th>\n",
       "      <td>0.863362</td>\n",
       "      <td>-1.321120</td>\n",
       "      <td>-1.035138</td>\n",
       "      <td>-0.242893</td>\n",
       "      <td>-0.652594</td>\n",
       "      <td>-1.085139</td>\n",
       "      <td>-0.140425</td>\n",
       "      <td>-1.091915</td>\n",
       "      <td>0</td>\n",
       "      <td>1</td>\n",
       "      <td>10845</td>\n",
       "    </tr>\n",
       "    <tr>\n",
       "      <th>1433</th>\n",
       "      <td>0.809579</td>\n",
       "      <td>-1.374036</td>\n",
       "      <td>-1.035138</td>\n",
       "      <td>-0.242893</td>\n",
       "      <td>-0.652594</td>\n",
       "      <td>-1.085139</td>\n",
       "      <td>-0.140425</td>\n",
       "      <td>-1.091915</td>\n",
       "      <td>0</td>\n",
       "      <td>1</td>\n",
       "      <td>8500</td>\n",
       "    </tr>\n",
       "    <tr>\n",
       "      <th>1434</th>\n",
       "      <td>0.755797</td>\n",
       "      <td>-1.376703</td>\n",
       "      <td>-1.035138</td>\n",
       "      <td>-0.242893</td>\n",
       "      <td>-0.652594</td>\n",
       "      <td>-1.085139</td>\n",
       "      <td>-0.140425</td>\n",
       "      <td>-1.091915</td>\n",
       "      <td>0</td>\n",
       "      <td>1</td>\n",
       "      <td>7250</td>\n",
       "    </tr>\n",
       "    <tr>\n",
       "      <th>1435</th>\n",
       "      <td>1.078490</td>\n",
       "      <td>-1.827849</td>\n",
       "      <td>0.567440</td>\n",
       "      <td>-0.242893</td>\n",
       "      <td>0.054555</td>\n",
       "      <td>1.014941</td>\n",
       "      <td>-0.140425</td>\n",
       "      <td>0.789399</td>\n",
       "      <td>0</td>\n",
       "      <td>1</td>\n",
       "      <td>6950</td>\n",
       "    </tr>\n",
       "  </tbody>\n",
       "</table>\n",
       "<p>1436 rows × 11 columns</p>\n",
       "</div>"
      ],
      "text/plain": [
       "      Age_08_04        KM        HP  Automatic        cc     Doors     Gears  \\\n",
       "0     -1.771966 -0.574695 -0.768042  -0.242893  0.997419 -1.085139 -0.140425   \n",
       "1     -1.771966  0.117454 -0.768042  -0.242893  0.997419 -1.085139 -0.140425   \n",
       "2     -1.718184 -0.715386 -0.768042  -0.242893  0.997419 -1.085139 -0.140425   \n",
       "3     -1.610620 -0.547650 -0.768042  -0.242893  0.997419 -1.085139 -0.140425   \n",
       "4     -1.395491 -0.801028 -0.768042  -0.242893  0.997419 -1.085139 -0.140425   \n",
       "...         ...       ...       ...        ...       ...       ...       ...   \n",
       "1431   0.702015 -1.279939 -1.035138  -0.242893 -0.652594 -1.085139 -0.140425   \n",
       "1432   0.863362 -1.321120 -1.035138  -0.242893 -0.652594 -1.085139 -0.140425   \n",
       "1433   0.809579 -1.374036 -1.035138  -0.242893 -0.652594 -1.085139 -0.140425   \n",
       "1434   0.755797 -1.376703 -1.035138  -0.242893 -0.652594 -1.085139 -0.140425   \n",
       "1435   1.078490 -1.827849  0.567440  -0.242893  0.054555  1.014941 -0.140425   \n",
       "\n",
       "        Weight  Fuel_Type_Diesel  Fuel_Type_Petrol  Price  \n",
       "0     1.758561                 1                 0  13500  \n",
       "1     1.758561                 1                 0  13750  \n",
       "2     1.758561                 1                 0  13950  \n",
       "3     1.758561                 1                 0  14950  \n",
       "4     1.853577                 1                 0  13750  \n",
       "...        ...               ...               ...    ...  \n",
       "1431 -0.901883                 0                 1   7500  \n",
       "1432 -1.091915                 0                 1  10845  \n",
       "1433 -1.091915                 0                 1   8500  \n",
       "1434 -1.091915                 0                 1   7250  \n",
       "1435  0.789399                 0                 1   6950  \n",
       "\n",
       "[1436 rows x 11 columns]"
      ]
     },
     "execution_count": 85,
     "metadata": {},
     "output_type": "execute_result"
    }
   ],
   "source": [
    "df_new = pd.concat([SS_X,cat_fuel,df_cleaned[\"Price\"]],axis=1)\n",
    "df_new        # after data transformation"
   ]
  },
  {
   "cell_type": "code",
   "execution_count": 86,
   "id": "93c09262-5727-4fce-80db-ea2d14c54e72",
   "metadata": {},
   "outputs": [],
   "source": [
    "#defining the X and Y for data partition and model fitting\n",
    "X= df_new.drop([\"Price\"],axis=1)  \n",
    "Y=df_new[\"Price\"]    # Y is our target variable"
   ]
  },
  {
   "cell_type": "code",
   "execution_count": 87,
   "id": "5bc290ac-f87f-459c-b4b7-8fb8ececc3d7",
   "metadata": {},
   "outputs": [],
   "source": [
    "# DATA PARTITION 80% on training and 20% on testing\n",
    "from sklearn.model_selection import train_test_split\n",
    "X_train,X_test,Y_train,Y_test= train_test_split(X,Y,test_size=0.2,random_state=42)"
   ]
  },
  {
   "cell_type": "code",
   "execution_count": 88,
   "id": "38f1de3c-5ca2-419d-9e24-4209e276cfc6",
   "metadata": {},
   "outputs": [],
   "source": [
    "# MODEL FITTING  by Linear regression 3 different models"
   ]
  },
  {
   "cell_type": "code",
   "execution_count": 89,
   "id": "c7907edd-5306-444a-b42c-62f02f785d89",
   "metadata": {},
   "outputs": [
    {
     "name": "stdout",
     "output_type": "stream",
     "text": [
      "           features       VIF\n",
      "8  Fuel_Type_Diesel  3.886665\n",
      "7            Weight  3.283869\n",
      "2                HP  2.293591\n",
      "1                KM  1.916694\n",
      "0         Age_08_04  1.910009\n",
      "9  Fuel_Type_Petrol  1.365707\n",
      "4                cc  1.223435\n",
      "5             Doors  1.215821\n",
      "6             Gears  1.109483\n",
      "3         Automatic  1.094550\n"
     ]
    }
   ],
   "source": [
    "#lets check the VIF for all features if VIF is value is highest we need to remove it and perform the next model\n",
    "#with other features after removing of highest VIF value \n",
    "from statsmodels.stats.outliers_influence import variance_inflation_factor\n",
    "VIF_data=pd.DataFrame()\n",
    "VIF_data[\"features\"] = X.columns\n",
    "VIF_data[\"VIF\"]=[variance_inflation_factor(X.values,i)for i in range(len(X.columns))]  # calculates vif for all featuers\n",
    "print(VIF_data.sort_values(by=\"VIF\",ascending=False))"
   ]
  },
  {
   "cell_type": "markdown",
   "id": "0de646ca-9dba-4589-80f3-1a40b76c1487",
   "metadata": {},
   "source": [
    "HERE we observed that the highest vif is for fuel_type_diesel and weight contains more them all x variables "
   ]
  },
  {
   "cell_type": "code",
   "execution_count": 90,
   "id": "873b0a82-6c51-49eb-a38b-6e80ca02b8f6",
   "metadata": {},
   "outputs": [
    {
     "name": "stdout",
     "output_type": "stream",
     "text": [
      "           Features  Coefficients\n",
      "0         Age_08_04  -2246.662441\n",
      "1                KM   -608.570564\n",
      "2                HP    210.253304\n",
      "3         Automatic     34.136075\n",
      "4                cc    -12.885069\n",
      "5             Doors    -57.436845\n",
      "6             Gears    103.946283\n",
      "7            Weight   1362.138679\n",
      "8  Fuel_Type_Diesel    -68.548757\n",
      "9  Fuel_Type_Petrol   1370.808910\n",
      "Intercept: 9547.459727859463\n"
     ]
    }
   ],
   "source": [
    "#model1 using all features\n",
    "from sklearn.linear_model import LinearRegression\n",
    "model_1=LinearRegression()\n",
    "model_1.fit(X_train,Y_train)\n",
    "\n",
    "#features selecting\n",
    "features_names_1=X_train.columns\n",
    "\n",
    "# get coefficients and intercept\n",
    "coefficients_1 = model_1.coef_\n",
    "intercept_1 = model_1.intercept_\n",
    "\n",
    "#displaying coefficients and interpect for model_1\n",
    "coefficients_df_1=pd.DataFrame({'Features':features_names_1,'Coefficients':coefficients_1})\n",
    "print(coefficients_df_1)\n",
    "print(\"Intercept:\",intercept_1)"
   ]
  },
  {
   "cell_type": "code",
   "execution_count": 91,
   "id": "12c9fb2c-4d7e-4316-8f09-431bb5e61c0b",
   "metadata": {
    "scrolled": true
   },
   "outputs": [
    {
     "name": "stdout",
     "output_type": "stream",
     "text": [
      "RMSE: 1484.2654\n",
      "R Square: 0.8349\n"
     ]
    }
   ],
   "source": [
    "#predicting the model_1 performence of testing data by metrics like RMSE and R square\n",
    "Y_pred_1=model_1.predict(X_test)\n",
    "\n",
    "from sklearn.metrics import root_mean_squared_error\n",
    "rmse=root_mean_squared_error(Y_test,Y_pred_1)\n",
    "print(\"RMSE:\",np.round(rmse,4))\n",
    "\n",
    "from sklearn.metrics import r2_score\n",
    "r2= r2_score(Y_test,Y_pred_1)\n",
    "print(\"R Square:\",np.round(r2,4))"
   ]
  },
  {
   "cell_type": "markdown",
   "id": "a5d906dc-b504-4ce4-a8c3-8b5c5a179639",
   "metadata": {},
   "source": [
    "by taking all x columns to fit the model we got the rmse:1484.2654 and R square: 0.8349 i.e 83.49% the model is predicting the price of cars correctly"
   ]
  },
  {
   "cell_type": "code",
   "execution_count": 92,
   "id": "87d67f2d-26d4-4de6-999d-daaed1207cfa",
   "metadata": {},
   "outputs": [
    {
     "name": "stdout",
     "output_type": "stream",
     "text": [
      "           Features  Coefficients\n",
      "0            Weight   1356.703205\n",
      "1                HP    215.196578\n",
      "2                KM   -608.820951\n",
      "3         Age_08_04  -2247.512987\n",
      "4  Fuel_Type_Petrol   1413.880810\n",
      "5                cc    -13.819263\n",
      "6             Doors    -56.519030\n",
      "7             Gears    103.474680\n",
      "8         Automatic     35.161555\n",
      "Intercept: 9502.273717082257\n"
     ]
    }
   ],
   "source": [
    "#model_2 using features weight,HP, KM, Age_08_04, Fuel_type_petrol, cc , doors , gears , automatic \n",
    "#features selecting\n",
    "features_names_2= ['Weight','HP', 'KM', 'Age_08_04', 'Fuel_Type_Petrol', 'cc' , 'Doors' , 'Gears' , 'Automatic' ]\n",
    "X_train_2= X_train[features_names_2]\n",
    "\n",
    "model_2=LinearRegression()\n",
    "model_2.fit(X_train_2,Y_train)\n",
    "\n",
    "# get coefficients and intercept\n",
    "coefficients_2 = model_2.coef_\n",
    "intercept_2 = model_2.intercept_\n",
    "\n",
    "#displaying coefficients and interpect for model_2\n",
    "coefficients_df_2=pd.DataFrame({'Features':features_names_2,'Coefficients':coefficients_2})\n",
    "print(coefficients_df_2)\n",
    "print(\"Intercept:\",intercept_2)"
   ]
  },
  {
   "cell_type": "code",
   "execution_count": 93,
   "id": "1c84646d-c6a5-40e0-a9ad-b9f876e24b14",
   "metadata": {},
   "outputs": [
    {
     "name": "stdout",
     "output_type": "stream",
     "text": [
      "RMSE: 1482.5856\n",
      "R Square: 0.8353\n"
     ]
    }
   ],
   "source": [
    "#predicting the model_2 performence of testing data by metrics like RMSE and R square\n",
    "X_test_2 = X_test[features_names_2]\n",
    "Y_pred_2=model_2.predict(X_test_2)\n",
    "\n",
    "from sklearn.metrics import root_mean_squared_error\n",
    "rmse=root_mean_squared_error(Y_test,Y_pred_2)\n",
    "print(\"RMSE:\",np.round(rmse,4))\n",
    "\n",
    "from sklearn.metrics import r2_score\n",
    "r2= r2_score(Y_test,Y_pred_2)\n",
    "print(\"R Square:\",np.round(r2,4))"
   ]
  },
  {
   "cell_type": "markdown",
   "id": "53273b60-566a-423a-9e73-7668235fac91",
   "metadata": {},
   "source": [
    "here instead of taking the all x columns we droped the highest vif value and fitted the model_2 with remaining columns \n",
    "then we got rmse:1482.5856 and r squared:0.8353 i.e 83.53% the model is predicting the price of car correctly \n",
    "\n",
    "here, we observed a slight improvemet in the model_2 predicting comapre to model_1"
   ]
  },
  {
   "cell_type": "code",
   "execution_count": 94,
   "id": "fd244993-0bd0-47d9-97cb-bd98fc323203",
   "metadata": {},
   "outputs": [
    {
     "name": "stdout",
     "output_type": "stream",
     "text": [
      "           Features  Coefficients\n",
      "0                HP    658.124598\n",
      "1                KM   -720.930612\n",
      "2         Age_08_04  -2616.446507\n",
      "3  Fuel_Type_Petrol  -1580.947013\n",
      "4                cc     54.261239\n",
      "5             Doors    214.065717\n",
      "6             Gears    161.560115\n",
      "7         Automatic    204.959743\n",
      "Intercept: 12128.622872259846\n"
     ]
    }
   ],
   "source": [
    "#model_3 using features HP, KM, Age_08_04, Fuel_type_petrol, cc , doors , gears , automatic \n",
    "#features selecting\n",
    "features_names_3= ['HP', 'KM', 'Age_08_04', 'Fuel_Type_Petrol', 'cc' , 'Doors' , 'Gears' , 'Automatic']\n",
    "X_train_3= X_train[features_names_3]\n",
    "\n",
    "model_3=LinearRegression()\n",
    "model_3.fit(X_train_3,Y_train)\n",
    "\n",
    "# get coefficients and intercept\n",
    "coefficients_3 = model_3.coef_\n",
    "intercept_3 = model_3.intercept_\n",
    "\n",
    "#displaying coefficients and interpect for model_3\n",
    "coefficients_df_3=pd.DataFrame({'Features':features_names_3,'Coefficients':coefficients_3})\n",
    "print(coefficients_df_3)\n",
    "print(\"Intercept:\",intercept_3)"
   ]
  },
  {
   "cell_type": "code",
   "execution_count": 95,
   "id": "aa2a5aad-9050-42cd-b8b1-0fd6c8af6ccb",
   "metadata": {},
   "outputs": [
    {
     "name": "stdout",
     "output_type": "stream",
     "text": [
      "RMSE: 1472.8372\n",
      "R Square: 0.8374\n"
     ]
    }
   ],
   "source": [
    "#predicting the model_3 performence of testing data by metrics like RMSE and R square\n",
    "X_test_3 = X_test[features_names_3]\n",
    "Y_pred_3=model_3.predict(X_test_3)\n",
    "\n",
    "from sklearn.metrics import root_mean_squared_error\n",
    "rmse=root_mean_squared_error(Y_test,Y_pred_3)\n",
    "print(\"RMSE:\",np.round(rmse,4))\n",
    "\n",
    "from sklearn.metrics import r2_score\n",
    "r2= r2_score(Y_test,Y_pred_3)\n",
    "print(\"R Square:\",np.round(r2,4))"
   ]
  },
  {
   "cell_type": "markdown",
   "id": "66cbc8eb-bd02-44a1-bb07-e669c294deba",
   "metadata": {},
   "source": [
    "Here we droped the second highest vif value also  and fitted the model_3 with remainig columns then we got Rmse:1472.8372 and R Squared:0.8374 i.e 83.74% \n",
    "the model_3 is predicting the prices of cars correctly \n",
    "\n",
    "here, also a slight improvemet in model_3 with compare to model_2 a very slight improvement "
   ]
  },
  {
   "cell_type": "code",
   "execution_count": 96,
   "id": "b85c3892-3ba8-4e2c-ac49-656742700ab2",
   "metadata": {},
   "outputs": [
    {
     "name": "stdout",
     "output_type": "stream",
     "text": [
      "           Features  Coefficients\n",
      "0                KM   -756.114128\n",
      "1         Age_08_04  -2708.432827\n",
      "2  Fuel_Type_Petrol   -582.450877\n",
      "3                cc    151.397492\n",
      "4             Doors    266.889854\n",
      "5             Gears    269.601113\n",
      "6         Automatic    193.123080\n",
      "Intercept: 11244.34366294192\n"
     ]
    }
   ],
   "source": [
    "#lets check with removal of top 3 highest VIF values in x columns making them as model_4\n",
    "#model_4 using features  KM, Age_08_04, Fuel_type_petrol, cc , doors , gears , automatic \n",
    "#features selecting\n",
    "features_names_4= ['KM', 'Age_08_04', 'Fuel_Type_Petrol', 'cc' , 'Doors' , 'Gears' , 'Automatic']\n",
    "X_train_4= X_train[features_names_4]\n",
    "\n",
    "model_4=LinearRegression()\n",
    "model_4.fit(X_train_4,Y_train)\n",
    "\n",
    "# get coefficients and intercept\n",
    "coefficients_4 = model_4.coef_\n",
    "intercept_4 = model_4.intercept_\n",
    "\n",
    "#displaying coefficients and interpect for model_3\n",
    "coefficients_df_4=pd.DataFrame({'Features':features_names_4,'Coefficients':coefficients_4})\n",
    "print(coefficients_df_4)\n",
    "print(\"Intercept:\",intercept_4)"
   ]
  },
  {
   "cell_type": "code",
   "execution_count": 97,
   "id": "7334dafd-542d-4dfa-a73e-783858f9de1a",
   "metadata": {},
   "outputs": [
    {
     "name": "stdout",
     "output_type": "stream",
     "text": [
      "RMSE: 1628.452\n",
      "R Square: 0.8013\n"
     ]
    }
   ],
   "source": [
    "#predicting the model_4 performence of testing data by metrics like RMSE and R square\n",
    "X_test_4 = X_test[features_names_4]\n",
    "Y_pred_4=model_4.predict(X_test_4)\n",
    "\n",
    "from sklearn.metrics import root_mean_squared_error\n",
    "rmse=root_mean_squared_error(Y_test,Y_pred_4)\n",
    "print(\"RMSE:\",np.round(rmse,4))\n",
    "\n",
    "from sklearn.metrics import r2_score\n",
    "r2= r2_score(Y_test,Y_pred_4)\n",
    "print(\"R Square:\",np.round(r2,4))\n"
   ]
  },
  {
   "cell_type": "markdown",
   "id": "a439250f-d2c7-48b4-96ee-f802ac717d48",
   "metadata": {},
   "source": [
    "HERE, after removal of top 3 highest vif values the rmse:1628.452 and r squared: 0.8013 i.e 80.13% . here we obserrved that the r squared is reduced \n",
    "then we can say that this model is not correct comapre to model_3 because the model_3 ha 83.74% accuarcy to predict the car prices \n"
   ]
  },
  {
   "cell_type": "markdown",
   "id": "f8702412-f241-4256-8432-275b2b18ebc6",
   "metadata": {},
   "source": [
    "here i can strongly says  that the model_3 is best model which has highest r square value and least rmse value .\n",
    "this model_3 can predict the price of cars correctly based on these x variables ('HP', 'KM', 'Age_08_04', 'Fuel_Type_Petrol', 'cc' , 'Doors' , 'Gears' , 'Automatic')\n"
   ]
  },
  {
   "cell_type": "markdown",
   "id": "83eac218-37ee-4fb5-aa55-d724cfd832f0",
   "metadata": {},
   "source": [
    "from three models the \n",
    "\n",
    "model_1 RMSE: 1484.2654 ,  R Square:  0.8349\n",
    "\n",
    "model_2  RMSE: 1482.5856 , R Square: 0.8353\n",
    "\n",
    "model_3  RMSE: 1472.8372 ,  Square: 0.8374 \n",
    "\n",
    "we can clearly say that model_3 has less RMSE and More R squared values. \n",
    "so, model_3 is better amoung model_1, model_2 .\n",
    "in model_3 we taken the x variables are ['HP', 'KM', 'Age_08_04', 'Fuel_Type_Petrol', 'cc' , 'Doors' , 'Gears' , 'Automatic']"
   ]
  },
  {
   "cell_type": "code",
   "execution_count": 98,
   "id": "d8768ff4-f72e-4e71-b304-551c9ca03e1f",
   "metadata": {},
   "outputs": [
    {
     "name": "stdout",
     "output_type": "stream",
     "text": [
      "           Features  Coefficients\n",
      "0                HP    655.131177\n",
      "1                KM   -717.271896\n",
      "2         Age_08_04  -2618.328845\n",
      "3  Fuel_Type_Petrol  -1561.057246\n",
      "4                cc     54.975325\n",
      "5             Doors    212.977312\n",
      "6             Gears    160.419144\n",
      "7         Automatic    203.617206\n",
      "Intercept: 12111.193848162982\n"
     ]
    }
   ],
   "source": [
    "#lets apply the lasso and ridge reression model to our best predicted model_3 among all 3 models \n",
    "# lasso model\n",
    "from sklearn.linear_model import Lasso\n",
    "lasso_model=Lasso(alpha = 1)\n",
    "lasso_model.fit(X_train_3,Y_train)       # model fit \n",
    "\n",
    "# get coefficients and intercept\n",
    "coefficients_lasso = lasso_model.coef_\n",
    "intercept_lasso = lasso_model.intercept_\n",
    "\n",
    "#displaying coefficients and interpect for lasso_model\n",
    "coefficients_df_lasso=pd.DataFrame({'Features':features_names_3,'Coefficients':coefficients_lasso})\n",
    "print(coefficients_df_lasso)\n",
    "print(\"Intercept:\",intercept_lasso)"
   ]
  },
  {
   "cell_type": "code",
   "execution_count": 99,
   "id": "198032e7-b409-44b2-80d6-694e051be8e9",
   "metadata": {},
   "outputs": [
    {
     "name": "stdout",
     "output_type": "stream",
     "text": [
      "RMSE: 1473.5836\n",
      "R Square: 0.8373\n"
     ]
    }
   ],
   "source": [
    "Y_pred_lasso = lasso_model.predict(X_test_3)     # model predicting\n",
    "\n",
    "from sklearn.metrics import root_mean_squared_error\n",
    "rmse=root_mean_squared_error(Y_test,Y_pred_lasso)\n",
    "print(\"RMSE:\",np.round(rmse,4))\n",
    "\n",
    "from sklearn.metrics import r2_score\n",
    "r2= r2_score(Y_test,Y_pred_lasso)\n",
    "print(\"R Square:\",np.round(r2,4))"
   ]
  },
  {
   "cell_type": "markdown",
   "id": "57411c74-f33a-421f-8744-8540bd8edfe5",
   "metadata": {},
   "source": [
    "Here the lasso regression model RMSE: 1473.5836 , R Square: 0.8373\n",
    "both the model_3 and lasso_model has same RMSE and R square "
   ]
  },
  {
   "cell_type": "code",
   "execution_count": 100,
   "id": "56e7c0e3-94da-4605-9c07-4c038fe2177f",
   "metadata": {},
   "outputs": [
    {
     "name": "stdout",
     "output_type": "stream",
     "text": [
      "           Features  Coefficients\n",
      "0                HP    654.709924\n",
      "1                KM   -718.343660\n",
      "2         Age_08_04  -2616.422052\n",
      "3  Fuel_Type_Petrol  -1558.400095\n",
      "4                cc     56.133625\n",
      "5             Doors    214.177694\n",
      "6             Gears    161.471895\n",
      "7         Automatic    204.250968\n",
      "Intercept: 12108.866561812292\n"
     ]
    }
   ],
   "source": [
    "# Ridge model\n",
    "from sklearn.linear_model import Ridge\n",
    "ridge_model=Ridge(alpha = 1)\n",
    "ridge_model.fit(X_train_3,Y_train)       # model fit \n",
    "\n",
    "# get coefficients and intercept\n",
    "coefficients_ridge = ridge_model.coef_\n",
    "intercept_ridge = ridge_model.intercept_\n",
    "\n",
    "#displaying coefficients and interpect for lasso_model\n",
    "coefficients_df_ridge =pd.DataFrame({'Features':features_names_3,'Coefficients':coefficients_ridge})\n",
    "print(coefficients_df_ridge)\n",
    "print(\"Intercept:\",intercept_ridge)"
   ]
  },
  {
   "cell_type": "code",
   "execution_count": 101,
   "id": "62336c4d-e7d4-4519-9e60-bc110f9669de",
   "metadata": {},
   "outputs": [
    {
     "name": "stdout",
     "output_type": "stream",
     "text": [
      "RMSE: 1473.7354\n",
      "R Square: 0.8372\n"
     ]
    }
   ],
   "source": [
    "Y_pred_ridge = ridge_model.predict(X_test_3)     # model predicting\n",
    "\n",
    "from sklearn.metrics import root_mean_squared_error\n",
    "rmse=root_mean_squared_error(Y_test,Y_pred_ridge)\n",
    "print(\"RMSE:\",np.round(rmse,4))\n",
    "\n",
    "from sklearn.metrics import r2_score\n",
    "r2= r2_score(Y_test,Y_pred_ridge)\n",
    "print(\"R Square:\",np.round(r2,4))"
   ]
  },
  {
   "cell_type": "markdown",
   "id": "2f7af380-d649-4240-93b8-53d2ac5c4209",
   "metadata": {},
   "source": [
    "Here the Ridge regression model RMSE: 1473.7354, R Square: 0.8372 both the model_3 and Ridge_model has same RMSE and R square\n",
    "\n"
   ]
  },
  {
   "cell_type": "markdown",
   "id": "8e1b5e19-6f4b-4dd2-aa96-664c9a1b4ea6",
   "metadata": {},
   "source": [
    "I conclued that already our model_3 has high R squared value and less RMSE value , it indiacted the model fits the data very perfectly without any overfitting.\n",
    "\n",
    "Because there is no significant overfitting when we applied regularization methods Lasso and Ridge does not have any change in model performance .\n",
    "\n",
    "There is a slight negligible difference in Ridge model RMSE is 1473.7354. Therefore in model_3 RMSE 1472.8372 . The difference is very slight we can neglect that difference \n"
   ]
  },
  {
   "cell_type": "markdown",
   "id": "dc270bdc-93d7-4b84-8ada-39faaf1e3a4a",
   "metadata": {},
   "source": [
    "Interview Q&A"
   ]
  },
  {
   "cell_type": "markdown",
   "id": "cf2f8009-c3e2-4ddd-a025-3956e7920af7",
   "metadata": {},
   "source": [
    "1. What is Normalization & Standardization and how is it helpful?"
   ]
  },
  {
   "cell_type": "markdown",
   "id": "f3fd2115-6143-4eef-9ed6-71ff42fc39d2",
   "metadata": {},
   "source": [
    "Normalization (Min-Max scaling) rescales feature values to a fixed range, typically [0,1] using (x - min) / (max - min). Useful when you need bounded inputs (e.g., neural nets with sigmoids) or for distance-based algorithms (kNN) if features have different ranges.\n",
    "\n",
    "Standardization (Z-score scaling) rescales to zero mean and unit variance using (x - mean) / std. This preserves outliers less aggressively and is the standard choice for algorithms that assume centered data (linear regression with regularization, SVM, PCA).\n",
    "\n",
    "Why helpful: brings features to similar scale so that scale-sensitive models (regularized regression, gradient-based optimization, kNN, SVM) behave properly and penalty terms are meaningful."
   ]
  },
  {
   "cell_type": "markdown",
   "id": "0c405dd2-6228-4111-9882-cd686238b560",
   "metadata": {},
   "source": [
    "2. What techniques can be used to address multicollinearity in multiple linear regression?"
   ]
  },
  {
   "cell_type": "markdown",
   "id": "b6336b96-19f7-46d4-a4b7-00e58edeb754",
   "metadata": {},
   "source": [
    "Remove or combine correlated features: drop one of the correlated predictors, or combine via average/index.\n",
    "\n",
    "Principal Component Analysis (PCA): replace correlated covariates with orthogonal principal components.\n",
    "\n",
    "Regularization (Ridge): reduces coefficient variance by penalizing large weights — very effective against multicollinearity.\n",
    "\n",
    "Variance Inflation Factor (VIF): detect high-VIF features; drop or transform those with high VIF.\n",
    "\n",
    "Center variables: sometimes centering (subtract mean) reduces multicollinearity for interaction terms.\n",
    "\n",
    "Domain knowledge: choose variables that make sense and avoid redundant features."
   ]
  },
  {
   "cell_type": "code",
   "execution_count": null,
   "id": "1283d841-5d43-43b1-920d-313423372319",
   "metadata": {},
   "outputs": [],
   "source": []
  }
 ],
 "metadata": {
  "kernelspec": {
   "display_name": "Python [conda env:base] *",
   "language": "python",
   "name": "conda-base-py"
  },
  "language_info": {
   "codemirror_mode": {
    "name": "ipython",
    "version": 3
   },
   "file_extension": ".py",
   "mimetype": "text/x-python",
   "name": "python",
   "nbconvert_exporter": "python",
   "pygments_lexer": "ipython3",
   "version": "3.11.7"
  }
 },
 "nbformat": 4,
 "nbformat_minor": 5
}
