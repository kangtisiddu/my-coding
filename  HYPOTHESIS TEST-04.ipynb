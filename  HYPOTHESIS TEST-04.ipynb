{
 "cells": [
  {
   "cell_type": "code",
   "execution_count": 1,
   "id": "c5b5925d-1311-4e16-9243-8f06fe4f2e6b",
   "metadata": {},
   "outputs": [],
   "source": [
    "import math\n",
    "from scipy.stats import norm"
   ]
  },
  {
   "cell_type": "code",
   "execution_count": 2,
   "id": "a0a67fe7-66c3-41e8-84ce-63e88d4fdcde",
   "metadata": {},
   "outputs": [],
   "source": [
    "sample_mean = 2000\n",
    "theoretical_mean = 500 + 4 *200\n",
    "std_dev = 2 * 15\n",
    "n = 15"
   ]
  },
  {
   "cell_type": "code",
   "execution_count": 3,
   "id": "ecf7f95a-8fcc-491f-8312-82b1ea35d9a6",
   "metadata": {},
   "outputs": [
    {
     "name": "stdout",
     "output_type": "stream",
     "text": [
      "Test statistic (Z): 90.37\n"
     ]
    }
   ],
   "source": [
    "standard_error = std_dev / math.sqrt(n)\n",
    "t_statistic = (sample_mean - theoretical_mean) / standard_error\n",
    "print(\"Test statistic (Z):\",round(t_statistic, 3))"
   ]
  },
  {
   "cell_type": "code",
   "execution_count": 4,
   "id": "670fe6c9-5627-42b5-aa97-369b0e0933b8",
   "metadata": {},
   "outputs": [],
   "source": [
    "alpha = 0.05"
   ]
  },
  {
   "cell_type": "code",
   "execution_count": 5,
   "id": "2c84b156-ce76-460b-9a5f-14b965869ec0",
   "metadata": {},
   "outputs": [
    {
     "name": "stdout",
     "output_type": "stream",
     "text": [
      "critical Z value: 1.645\n"
     ]
    }
   ],
   "source": [
    "z_critical = norm.ppf(1 - alpha)\n",
    "print(\"critical Z value:\",round(z_critical, 3))"
   ]
  },
  {
   "cell_type": "code",
   "execution_count": 21,
   "id": "9c0610db-9bee-4ade-943c-58324372889f",
   "metadata": {},
   "outputs": [
    {
     "name": "stdout",
     "output_type": "stream",
     "text": [
      "Reject the H0 hypothesis.\n"
     ]
    }
   ],
   "source": [
    "if t_statistic > z_critical:\n",
    "    print(\"Reject the H0 hypothesis.\")\n",
    "else:\n",
    "    print(\" reject the H0 hypothesis.\")\n"
   ]
  },
  {
   "cell_type": "code",
   "execution_count": 8,
   "id": "d526cc35-1ac5-46b9-a644-458efe223f60",
   "metadata": {},
   "outputs": [
    {
     "name": "stdout",
     "output_type": "stream",
     "text": [
      "Conclusion: There is strong evidence that actual weekly operating costs are significantly higher than the model suggests.\n"
     ]
    }
   ],
   "source": [
    "if t_statistic > z_critical:\n",
    "    conclusion = \"There is strong evidence that actual weekly operating costs are significantly higher than the model suggests.\"\n",
    "else:\n",
    "    conclusion = \"There is not enough evidence to support the claim that actual weekly operating costs are higher than predicted.\"\n",
    "\n",
    "print(\"Conclusion:\", conclusion)"
   ]
  },
  {
   "cell_type": "code",
   "execution_count": 9,
   "id": "f17a19a1-b534-4463-94f8-1092e00b5769",
   "metadata": {},
   "outputs": [],
   "source": [
    "#Chi Square Test"
   ]
  },
  {
   "cell_type": "code",
   "execution_count": 10,
   "id": "2c3df119-9144-4594-b3b7-4c90de13e44e",
   "metadata": {},
   "outputs": [],
   "source": [
    "import numpy as np\n",
    "from scipy.stats import chi2_contingency, chi2"
   ]
  },
  {
   "cell_type": "code",
   "execution_count": 13,
   "id": "f9c56aa7-7595-40ea-916e-c66db7124562",
   "metadata": {},
   "outputs": [],
   "source": [
    "observed = np.array([\n",
    "    [50, 70],     \n",
    "    [80, 100],    \n",
    "    [60, 90],     \n",
    "    [30, 50],     \n",
    "    [20, 50]      \n",
    "])"
   ]
  },
  {
   "cell_type": "code",
   "execution_count": 14,
   "id": "b476a7b7-b095-43ce-aad6-7b57c2af2fbd",
   "metadata": {},
   "outputs": [],
   "source": [
    "chi2_stat, p_val, dof, expected = chi2_contingency(observed)\n"
   ]
  },
  {
   "cell_type": "code",
   "execution_count": 15,
   "id": "b242eb19-f7ec-4e37-b08c-b477bff66fb7",
   "metadata": {},
   "outputs": [
    {
     "name": "stdout",
     "output_type": "stream",
     "text": [
      "Chi-Square Statistic: 5.6382\n",
      "Degrees of Freedom: 4\n",
      "Expected Frequencies:\n",
      " [[ 48.  72.]\n",
      " [ 72. 108.]\n",
      " [ 60.  90.]\n",
      " [ 32.  48.]\n",
      " [ 28.  42.]]\n"
     ]
    }
   ],
   "source": [
    "print(\"Chi-Square Statistic:\", round(chi2_stat, 4))\n",
    "print(\"Degrees of Freedom:\", dof)\n",
    "print(\"Expected Frequencies:\\n\", np.round(expected, 3))\n"
   ]
  },
  {
   "cell_type": "code",
   "execution_count": 16,
   "id": "dd5e51ea-e4b2-4c81-b899-a2721b5c4d5b",
   "metadata": {},
   "outputs": [],
   "source": [
    "alpha = 0.05"
   ]
  },
  {
   "cell_type": "code",
   "execution_count": 17,
   "id": "7957b25f-120d-408a-8192-69dd153913f3",
   "metadata": {},
   "outputs": [
    {
     "name": "stdout",
     "output_type": "stream",
     "text": [
      "Critical Value at alpha=0.05: 9.488\n"
     ]
    }
   ],
   "source": [
    "critical_value = chi2.ppf(1 - alpha, dof)\n",
    "print(\"Critical Value at alpha=0.05:\", round(critical_value, 3))\n"
   ]
  },
  {
   "cell_type": "code",
   "execution_count": 20,
   "id": "11d00b22-9954-494b-9189-04d9c38e3d35",
   "metadata": {},
   "outputs": [
    {
     "name": "stdout",
     "output_type": "stream",
     "text": [
      " reject the H0 hypothesis.\n"
     ]
    }
   ],
   "source": [
    "if chi2_stat > critical_value:\n",
    "    print(\"Reject the H0 hypothesis.\")\n",
    "    conclusion = \"There is a significant association between device type and customer satisfaction.\"\n",
    "else:\n",
    "    print(\" reject the H0 hypothesis.\")\n",
    "    conclusion = \"There is no significant association between device type and customer satisfaction.\"\n"
   ]
  },
  {
   "cell_type": "code",
   "execution_count": 22,
   "id": "a79ca5ba-b518-4816-a6fa-1948c7037c58",
   "metadata": {},
   "outputs": [
    {
     "name": "stdout",
     "output_type": "stream",
     "text": [
      "Conclusion: There is no significant association between device type and customer satisfaction.\n"
     ]
    }
   ],
   "source": [
    "print(\"Conclusion:\", conclusion)"
   ]
  },
  {
   "cell_type": "code",
   "execution_count": null,
   "id": "5413301a-826d-4969-baf3-21dab412b960",
   "metadata": {},
   "outputs": [],
   "source": []
  }
 ],
 "metadata": {
  "kernelspec": {
   "display_name": "Python [conda env:base] *",
   "language": "python",
   "name": "conda-base-py"
  },
  "language_info": {
   "codemirror_mode": {
    "name": "ipython",
    "version": 3
   },
   "file_extension": ".py",
   "mimetype": "text/x-python",
   "name": "python",
   "nbconvert_exporter": "python",
   "pygments_lexer": "ipython3",
   "version": "3.11.7"
  }
 },
 "nbformat": 4,
 "nbformat_minor": 5
}
